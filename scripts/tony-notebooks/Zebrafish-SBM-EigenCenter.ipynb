{
 "cells": [
  {
   "cell_type": "code",
   "execution_count": 1,
   "metadata": {},
   "outputs": [],
   "source": [
    "import networkx as nx\n",
    "import pandas as pd\n",
    "import numpy as np\n",
    "import graph_tool.all as gt\n",
    "\n",
    "from pyvis.network import Network\n",
    "import matplotlib.pyplot as plt\n",
    "import plotly.graph_objects as go\n",
    "import seaborn as sns\n",
    "from IPython.core.display import display\n",
    "from IPython.display import IFrame"
   ]
  },
  {
   "cell_type": "code",
   "execution_count": 2,
   "metadata": {},
   "outputs": [],
   "source": [
    "sns.set()"
   ]
  },
  {
   "cell_type": "markdown",
   "metadata": {},
   "source": [
    "## Data Preparation"
   ]
  },
  {
   "cell_type": "code",
   "execution_count": 3,
   "metadata": {},
   "outputs": [],
   "source": [
    "from scipy.io import loadmat"
   ]
  },
  {
   "cell_type": "code",
   "execution_count": 4,
   "metadata": {},
   "outputs": [],
   "source": [
    "data_path = \"/usr/people/runzhey/seungmount/research/runzhey/FlyModularity/saved/ConnMatrixPre_cleaned.mat\"\n",
    "connmat = loadmat(data_path) \n",
    "data_path = \"/usr/people/runzhey/seungmount/research/runzhey/FlyModularity/saved/AllCells_cleaned.mat\"\n",
    "cellid = loadmat(data_path) \n",
    "data_path = \"/usr/people/runzhey/seungmount/research/runzhey/FlyModularity/saved/cellIDs.mat\"\n",
    "celltypes = loadmat(data_path) "
   ]
  },
  {
   "cell_type": "code",
   "execution_count": 5,
   "metadata": {},
   "outputs": [],
   "source": [
    "connmat = connmat[\"ConnMatrixPre_cleaned\"]\n",
    "cellid = cellid['AllCells_cleaned']\n",
    "typenames = celltypes['cellIDs'].dtype\n",
    "celltypes = celltypes['cellIDs'][0,0]"
   ]
  },
  {
   "cell_type": "code",
   "execution_count": 6,
   "metadata": {},
   "outputs": [],
   "source": [
    "## graph construction\n",
    "\n",
    "g = gt.Graph()\n",
    "idx = connmat.T.nonzero()\n",
    "g.add_edge_list(np.transpose(idx))\n",
    "\n",
    "ew = g.new_edge_property(\"int32_t\")\n",
    "ew.a = connmat.T[idx] \n",
    "g.ep['#synapses'] = ew\n",
    "\n",
    "vw = g.new_vertex_property(\"int32_t\")\n",
    "for i, v in enumerate(g.vertices()):\n",
    "    vw[v] = cellid[i]\n",
    "g.vp['cellid'] = vw"
   ]
  },
  {
   "cell_type": "markdown",
   "metadata": {},
   "source": [
    "## Neuron Types"
   ]
  },
  {
   "cell_type": "code",
   "execution_count": 7,
   "metadata": {},
   "outputs": [],
   "source": [
    "neuron_type = []\n",
    "for cid in cellid.T[0]:\n",
    "    labelled = False\n",
    "    # 16 different neuron types\n",
    "    for i in range(16):\n",
    "        if cid in celltypes[i][0]:\n",
    "            neuron_type.append(i)\n",
    "            labelled = True\n",
    "            break\n",
    "    if not labelled:\n",
    "        # -1 indicates no type has been assigned\n",
    "        neuron_type.append(-1)"
   ]
  },
  {
   "cell_type": "code",
   "execution_count": 8,
   "metadata": {},
   "outputs": [],
   "source": [
    "vw = g.new_vertex_property(\"int32_t\")\n",
    "for i, v in enumerate(g.vertices()):\n",
    "    vw[v] = neuron_type[i]\n",
    "g.vp['celltype'] = vw"
   ]
  },
  {
   "cell_type": "code",
   "execution_count": 9,
   "metadata": {},
   "outputs": [],
   "source": [
    "vw = g.new_vertex_property(\"bool\")\n",
    "for i, v in enumerate(g.vertices()):\n",
    "    vw[v] = neuron_type[i] > -1\n",
    "g.vp['cellselected'] = vw"
   ]
  },
  {
   "cell_type": "markdown",
   "metadata": {},
   "source": [
    "## Preprocess - Remove Isolated Neurons "
   ]
  },
  {
   "cell_type": "code",
   "execution_count": 10,
   "metadata": {},
   "outputs": [
    {
     "name": "stdout",
     "output_type": "stream",
     "text": [
      "<Graph object, directed, with 2883 vertices and 44969 edges, 3 internal vertex properties, 1 internal edge property, at 0x7f08a44d7c50>\n",
      "-----------------------\n",
      "max out-degree is 165 and in-degree is 417\n",
      "-----------------------\n",
      "max out-degree is 0 and in-degree is 0\n"
     ]
    }
   ],
   "source": [
    "print(g)\n",
    "print(\"-----------------------\")\n",
    "print(\"max out-degree is {} and in-degree is {}\".format(\n",
    "    max(g.degree_property_map(\"out\")),\n",
    "    max(g.degree_property_map(\"in\"))))\n",
    "print(\"-----------------------\")\n",
    "print(\"max out-degree is {} and in-degree is {}\".format(\n",
    "    min(g.degree_property_map(\"out\")),\n",
    "    min(g.degree_property_map(\"in\"))))"
   ]
  },
  {
   "cell_type": "code",
   "execution_count": 11,
   "metadata": {},
   "outputs": [
    {
     "name": "stdout",
     "output_type": "stream",
     "text": [
      "There are 59 isolated neurons (indegree and outdegree are 0)\n"
     ]
    }
   ],
   "source": [
    "zero_deg_nodes = []\n",
    "for v in g.vertices():\n",
    "    if v.in_degree() == 0 and v.out_degree() == 0:\n",
    "        zero_deg_nodes.append(v)\n",
    "print(\"There are {} isolated neurons (indegree and outdegree are 0)\".format(\n",
    "    len(zero_deg_nodes)))"
   ]
  },
  {
   "cell_type": "code",
   "execution_count": 12,
   "metadata": {},
   "outputs": [
    {
     "name": "stdout",
     "output_type": "stream",
     "text": [
      "There are 4 abducens neurons have non-zero outdegree\n"
     ]
    }
   ],
   "source": [
    "false_annotation_nodes = []\n",
    "for v in g.vertices():\n",
    "    if g.vp['celltype'][v] == 14 or g.vp['celltype'][v] == 15:\n",
    "        if v.out_degree() > 0:\n",
    "            false_annotation_nodes.append(v)\n",
    "print(\"There are {} abducens neurons have non-zero outdegree\".format(\n",
    "    len(false_annotation_nodes)))"
   ]
  },
  {
   "cell_type": "code",
   "execution_count": 13,
   "metadata": {},
   "outputs": [],
   "source": [
    "for v in reversed(sorted(zero_deg_nodes+false_annotation_nodes)):\n",
    "    g.remove_vertex(v)"
   ]
  },
  {
   "cell_type": "markdown",
   "metadata": {},
   "source": [
    "## Preprocess - Extract Connected Components"
   ]
  },
  {
   "cell_type": "code",
   "execution_count": 14,
   "metadata": {},
   "outputs": [],
   "source": [
    "g_wcp, wcp_hist = gt.label_components(g, directed= False)"
   ]
  },
  {
   "cell_type": "code",
   "execution_count": 15,
   "metadata": {},
   "outputs": [
    {
     "name": "stdout",
     "output_type": "stream",
     "text": [
      "[   1    2 2817]\n"
     ]
    },
    {
     "data": {
      "image/png": "[encoded data removed]",
      "text/plain": [
       "<Figure size 432x288 with 1 Axes>"
      ]
     },
     "metadata": {},
     "output_type": "display_data"
    }
   ],
   "source": [
    "print(np.sort(wcp_hist))\n",
    "plt.plot(np.sort(wcp_hist))\n",
    "plt.xlabel(\"weakly connected component-id\")\n",
    "plt.ylabel(\"#neurons\")\n",
    "plt.show()"
   ]
  },
  {
   "cell_type": "code",
   "execution_count": 16,
   "metadata": {},
   "outputs": [
    {
     "name": "stdout",
     "output_type": "stream",
     "text": [
      "the largest weakly connected componed contains 2817 neurons\n"
     ]
    }
   ],
   "source": [
    "print(\"the largest weakly connected componed contains {} neurons\".format(wcp_hist.max()))"
   ]
  },
  {
   "cell_type": "code",
   "execution_count": 17,
   "metadata": {},
   "outputs": [],
   "source": [
    "g_scp, scp_hist = gt.label_components(g, directed = True)"
   ]
  },
  {
   "cell_type": "code",
   "execution_count": 18,
   "metadata": {},
   "outputs": [
    {
     "name": "stdout",
     "output_type": "stream",
     "text": [
      "[  1   1   1 ...   1   1 540]\n"
     ]
    },
    {
     "data": {
      "image/png": "[encoded data removed]",
      "text/plain": [
       "<Figure size 432x288 with 1 Axes>"
      ]
     },
     "metadata": {},
     "output_type": "display_data"
    }
   ],
   "source": [
    "print(np.sort(scp_hist))\n",
    "plt.plot(np.sort(scp_hist))\n",
    "plt.xlabel(\"weakly connected component-id\")\n",
    "plt.ylabel(\"#neurons\")\n",
    "plt.show()"
   ]
  },
  {
   "cell_type": "code",
   "execution_count": 19,
   "metadata": {},
   "outputs": [
    {
     "name": "stdout",
     "output_type": "stream",
     "text": [
      "the largest strongly connected componed contains 540 neurons\n"
     ]
    }
   ],
   "source": [
    "print(\"the largest strongly connected componed contains {} neurons\".format(scp_hist.max()))"
   ]
  },
  {
   "cell_type": "code",
   "execution_count": 20,
   "metadata": {},
   "outputs": [
    {
     "name": "stdout",
     "output_type": "stream",
     "text": [
      "<GraphView object, directed, with 2817 vertices and 44311 edges, 3 internal vertex properties, 1 internal edge property, edges filtered by (<EdgePropertyMap object with value type 'bool', for Graph 0x7f08a3732780, at 0x7f08a3732eb8>, False), vertices filtered by (<VertexPropertyMap object with value type 'bool', for Graph 0x7f08a3732780, at 0x7f08a3732f98>, False), at 0x7f08a3732780>\n"
     ]
    }
   ],
   "source": [
    "# extract the largest weakly connnected subgraph\n",
    "u = gt.extract_largest_component(g, directed=False)\n",
    "print(u)"
   ]
  },
  {
   "cell_type": "code",
   "execution_count": 21,
   "metadata": {},
   "outputs": [],
   "source": [
    "# %%time\n",
    "# pos = gt.sfdp_layout(u)\n",
    "# gt.graph_draw(u, pos=pos, inline=True)"
   ]
  },
  {
   "cell_type": "code",
   "execution_count": 22,
   "metadata": {},
   "outputs": [],
   "source": [
    "# %%time\n",
    "# # pos = gt.sfdp_layout(u)\n",
    "# gt.graph_draw(u, pos=pos, vertex_fill_color=u.vp['celltype'], inline=True)"
   ]
  },
  {
   "cell_type": "code",
   "execution_count": 23,
   "metadata": {},
   "outputs": [],
   "source": [
    "wcp_filter, _ = u.get_vertex_filter()"
   ]
  },
  {
   "cell_type": "code",
   "execution_count": 24,
   "metadata": {},
   "outputs": [],
   "source": [
    "wcp_type_filter = g.new_vertex_property(\"bool\")\n",
    "for i, v in enumerate(g.vertices()):\n",
    "    wcp_type_filter[v] = wcp_filter[v] & g.vp['cellselected'][v]"
   ]
  },
  {
   "cell_type": "code",
   "execution_count": 25,
   "metadata": {},
   "outputs": [],
   "source": [
    "u.set_vertex_filter(wcp_type_filter)"
   ]
  },
  {
   "cell_type": "code",
   "execution_count": 26,
   "metadata": {},
   "outputs": [],
   "source": [
    "_, temphist =  gt.label_components(u, directed=False)"
   ]
  },
  {
   "cell_type": "code",
   "execution_count": 27,
   "metadata": {},
   "outputs": [
    {
     "data": {
      "text/plain": [
       "array([  1,   1,   1,   1,   1,   1, 378], dtype=uint64)"
      ]
     },
     "execution_count": 27,
     "metadata": {},
     "output_type": "execute_result"
    }
   ],
   "source": [
    "np.sort(temphist)"
   ]
  },
  {
   "cell_type": "code",
   "execution_count": 28,
   "metadata": {},
   "outputs": [],
   "source": [
    "# %%time\n",
    "# pos = gt.sfdp_layout(u, gamma=10.0)\n",
    "# gt.graph_draw(u, pos=pos, vertex_text=u.vp['celltype'], \n",
    "#               vertex_fill_color=u.vp['celltype'], inline=True)"
   ]
  },
  {
   "cell_type": "code",
   "execution_count": 29,
   "metadata": {},
   "outputs": [],
   "source": [
    "u.set_vertex_filter(wcp_filter)"
   ]
  },
  {
   "cell_type": "code",
   "execution_count": 30,
   "metadata": {},
   "outputs": [],
   "source": [
    "u = gt.Graph(u, prune=True)"
   ]
  },
  {
   "cell_type": "code",
   "execution_count": 31,
   "metadata": {},
   "outputs": [],
   "source": [
    "wcp_type_filter = u.new_vertex_property(\"bool\")\n",
    "for i, v in enumerate(u.vertices()):\n",
    "    wcp_type_filter[v] = u.vp['cellselected'][v]"
   ]
  },
  {
   "cell_type": "code",
   "execution_count": 32,
   "metadata": {},
   "outputs": [
    {
     "name": "stdout",
     "output_type": "stream",
     "text": [
      "<Graph object, directed, with 2817 vertices and 44311 edges, 3 internal vertex properties, 1 internal edge property, at 0x7f08a376d748>\n"
     ]
    }
   ],
   "source": [
    "print(u)"
   ]
  },
  {
   "cell_type": "markdown",
   "metadata": {},
   "source": [
    "we only apply modularity analysis to these connected 2822 neurons."
   ]
  },
  {
   "cell_type": "markdown",
   "metadata": {},
   "source": [
    "##  Eigencentrality Subgraph\n",
    "directly load from Louvain results."
   ]
  },
  {
   "cell_type": "code",
   "execution_count": 33,
   "metadata": {},
   "outputs": [],
   "source": [
    "data_path = \"/usr/people/runzhey/seungmount/research/runzhey/FlyModularity/saved/MatOrder_CO_top500_2blocks_06122020.mat\"\n",
    "lou_cellid = loadmat(data_path) \n",
    "data_path = \"/usr/people/runzhey/seungmount/research/runzhey/FlyModularity/saved/cellIDType_CO_top500_2blocks_06122020.mat\"\n",
    "lou_celltypes = loadmat(data_path)\n",
    "\n",
    "lou_cellid = lou_cellid['MatOrder_CO_top500_2blocks_06122020'].T\n",
    "lou_celltypes = lou_celltypes['cellIDType_CO_top500_2blocks_06122020']"
   ]
  },
  {
   "cell_type": "code",
   "execution_count": 34,
   "metadata": {},
   "outputs": [],
   "source": [
    "eigenmask = np.isin(lou_celltypes, ['_Axl_', '_DOs_', '_Int_'])\n",
    "eigencenter = lou_cellid[eigenmask]"
   ]
  },
  {
   "cell_type": "code",
   "execution_count": 35,
   "metadata": {},
   "outputs": [],
   "source": [
    "center_filter = u.new_vertex_property(\"bool\")\n",
    "for v in u.vertices():\n",
    "    center_filter[v] = u.vp[\"cellid\"][v] in eigencenter"
   ]
  },
  {
   "cell_type": "code",
   "execution_count": 36,
   "metadata": {},
   "outputs": [
    {
     "data": {
      "text/plain": [
       "PropertyArray(540, dtype=uint64)"
      ]
     },
     "execution_count": 36,
     "metadata": {},
     "output_type": "execute_result"
    }
   ],
   "source": [
    "(center_filter.a).sum()"
   ]
  },
  {
   "cell_type": "code",
   "execution_count": 37,
   "metadata": {},
   "outputs": [],
   "source": [
    "center_type_filter = u.new_vertex_property(\"bool\")\n",
    "for i, v in enumerate(u.vertices()):\n",
    "    center_type_filter[v] = u.vp['cellselected'][v] and center_filter[v]"
   ]
  },
  {
   "cell_type": "code",
   "execution_count": 38,
   "metadata": {},
   "outputs": [],
   "source": [
    "u.set_vertex_filter(center_filter)"
   ]
  },
  {
   "cell_type": "code",
   "execution_count": 39,
   "metadata": {},
   "outputs": [
    {
     "data": {
      "text/plain": [
       "<Graph object, directed, with 540 vertices and 7132 edges, 3 internal vertex properties, 1 internal edge property, edges filtered by (<EdgePropertyMap object with value type 'bool', for Graph 0x7f08a376d748, at 0x7f08a3760e80>, False), vertices filtered by (<VertexPropertyMap object with value type 'bool', for Graph 0x7f08a376d748, at 0x7f08a3760a90>, False), at 0x7f08a376d748>"
      ]
     },
     "execution_count": 39,
     "metadata": {},
     "output_type": "execute_result"
    }
   ],
   "source": [
    "u"
   ]
  },
  {
   "cell_type": "markdown",
   "metadata": {},
   "source": [
    "## Algorithm1 - Nested Stochastic Block Models"
   ]
  },
  {
   "cell_type": "code",
   "execution_count": 40,
   "metadata": {},
   "outputs": [],
   "source": [
    "# %%time\n",
    "# # nSBM = gt.minimize_nested_blockmodel_dl(u, layers=True, state_args=dict(ec=u.ep[\"#synapses\"], layers=True))\n",
    "# # nSBM = gt.minimize_nested_blockmodel_dl(u, deg_corr=True)\n",
    "# # nSBM = gt.minimize_nested_blockmodel_dl(u, deg_corr=False)\n",
    "SBM = gt.minimize_blockmodel_dl(u, deg_corr=True, \n",
    "                                B_min=2, B_max=2,\n",
    "                                state_args=dict(recs=[u.ep[\"#synapses\"]], \n",
    "                                                   rec_types=[\"discrete-poisson\"]))"
   ]
  },
  {
   "cell_type": "code",
   "execution_count": 41,
   "metadata": {},
   "outputs": [
    {
     "data": {
      "text/plain": [
       "<Graph object, directed, with 540 vertices and 7132 edges, 3 internal vertex properties, 1 internal edge property, edges filtered by (<EdgePropertyMap object with value type 'bool', for Graph 0x7f08a376d748, at 0x7f08a3760e80>, False), vertices filtered by (<VertexPropertyMap object with value type 'bool', for Graph 0x7f08a376d748, at 0x7f08a3760a90>, False), at 0x7f08a376d748>"
      ]
     },
     "execution_count": 41,
     "metadata": {},
     "output_type": "execute_result"
    }
   ],
   "source": [
    "u"
   ]
  },
  {
   "cell_type": "code",
   "execution_count": 42,
   "metadata": {},
   "outputs": [
    {
     "data": {
      "text/plain": [
       "PropertyArray(234)"
      ]
     },
     "execution_count": 42,
     "metadata": {},
     "output_type": "execute_result"
    }
   ],
   "source": [
    "(SBM.get_blocks().a==1).sum()"
   ]
  },
  {
   "cell_type": "code",
   "execution_count": 43,
   "metadata": {
    "scrolled": true
   },
   "outputs": [
    {
     "name": "stdout",
     "output_type": "stream",
     "text": [
      "Discription Length:  39515.08990796963\n"
     ]
    }
   ],
   "source": [
    "print(\"Discription Length: \", SBM.entropy())"
   ]
  },
  {
   "cell_type": "code",
   "execution_count": 44,
   "metadata": {},
   "outputs": [],
   "source": [
    "import pickle\n",
    "with open('saved/SBM_Zfish_eig.data', 'wb') as output:\n",
    "    pickle.dump(SBM, output, pickle.HIGHEST_PROTOCOL)\n",
    "\n",
    "with open('saved/SBM_Zfish_eig_u.data', 'wb') as output:\n",
    "    pickle.dump(u, output, pickle.HIGHEST_PROTOCOL)\n",
    "\n",
    "# with open('saved/SBM_Zfish_eig.data', 'rb') as input:    \n",
    "#     nSBM = pickle.load(input)\n",
    "\n",
    "# with open('saved/SBM_Zfish_eig_u.data', 'rb') as input:    \n",
    "#     u = pickle.load(input)"
   ]
  },
  {
   "cell_type": "code",
   "execution_count": 45,
   "metadata": {},
   "outputs": [],
   "source": [
    "u.vp[\"SBM\"] = SBM.get_blocks()"
   ]
  },
  {
   "cell_type": "code",
   "execution_count": 46,
   "metadata": {},
   "outputs": [],
   "source": [
    "u.set_vertex_filter(center_type_filter)"
   ]
  },
  {
   "cell_type": "code",
   "execution_count": 47,
   "metadata": {},
   "outputs": [
    {
     "data": {
      "text/plain": [
       "<Graph object, directed, with 194 vertices and 1820 edges, 4 internal vertex properties, 1 internal edge property, edges filtered by (<EdgePropertyMap object with value type 'bool', for Graph 0x7f08a376d748, at 0x7f08a3760e80>, False), vertices filtered by (<VertexPropertyMap object with value type 'bool', for Graph 0x7f08a376d748, at 0x7f08a380d1d0>, False), at 0x7f08a376d748>"
      ]
     },
     "execution_count": 47,
     "metadata": {},
     "output_type": "execute_result"
    }
   ],
   "source": [
    "u"
   ]
  },
  {
   "cell_type": "code",
   "execution_count": 48,
   "metadata": {},
   "outputs": [],
   "source": [
    "u_adj = gt.adjacency(u, weight=u.ep[\"#synapses\"])"
   ]
  },
  {
   "cell_type": "code",
   "execution_count": 49,
   "metadata": {},
   "outputs": [],
   "source": [
    "center_filter_mask = np.array(center_filter.a, dtype=bool) "
   ]
  },
  {
   "cell_type": "code",
   "execution_count": 50,
   "metadata": {},
   "outputs": [],
   "source": [
    "center_type_filter_mask = np.array(center_type_filter.a, dtype=bool)"
   ]
  },
  {
   "cell_type": "code",
   "execution_count": 51,
   "metadata": {},
   "outputs": [],
   "source": [
    "dic_SBM2Type = np.array([u.vp[\"SBM\"].a[center_type_filter_mask].tolist(), u.vp[\"celltype\"].a[center_type_filter_mask].tolist()]).T"
   ]
  },
  {
   "cell_type": "code",
   "execution_count": 52,
   "metadata": {},
   "outputs": [],
   "source": [
    "typenames = ['Saccadic_M', 'Saccadic_I', 'IBN', 'IBNmirrorPop', 'RS', 'Vestibular_DO', 'Vestibular_MO', 'Vestibular_TO', 'Integrator_r456I', 'Integrator_r456M', 'Integrator_r456MI', 'Integrator_r56M', 'Integrator_r78ipis', 'Integrator_r78contra', 'Abducens_M', 'Abducens_I']"
   ]
  },
  {
   "cell_type": "code",
   "execution_count": 53,
   "metadata": {
    "scrolled": false
   },
   "outputs": [
    {
     "name": "stdout",
     "output_type": "stream",
     "text": [
      "---\n",
      "SBM type: 0\n",
      "2 x IBN\n",
      "34 x Vestibular_DO\n",
      "48 x Integrator_r456I\n",
      "15 x Integrator_r456M\n",
      "34 x Integrator_r456MI\n",
      "9 x Integrator_r56M\n",
      "38 x Integrator_r78ipis\n",
      "---\n",
      "SBM type: 1\n",
      "9 x RS\n",
      "3 x Integrator_r456M\n",
      "1 x Integrator_r456MI\n",
      "1 x Integrator_r78ipis\n"
     ]
    }
   ],
   "source": [
    "typeM = np.zeros((2, 16))\n",
    "for i in range(2):\n",
    "    print(\"---\")\n",
    "    print(\"SBM type: {}\".format(i))\n",
    "    ids, cnts = np.unique(dic_SBM2Type[dic_SBM2Type[:,0]==i][:,1], return_counts=True)\n",
    "    for cnt, nid, name in zip(cnts, ids, np.array(typenames)[ids].tolist()):\n",
    "        typeM[i, nid] = cnt\n",
    "        print(str(cnt)+\" x \"+str(name))"
   ]
  },
  {
   "cell_type": "code",
   "execution_count": 54,
   "metadata": {
    "scrolled": true
   },
   "outputs": [
    {
     "data": {
      "image/png": "[encoded data removed]",
      "text/plain": [
       "<Figure size 216x288 with 4 Axes>"
      ]
     },
     "metadata": {},
     "output_type": "display_data"
    }
   ],
   "source": [
    "# plt.axis('off')\n",
    "type_grid = sns.clustermap(typeM.T, \n",
    "               center=0, \n",
    "            xticklabels=np.arange(2),\n",
    "            yticklabels=typenames,\n",
    "            figsize=(3,4),\n",
    "            row_cluster=True,\n",
    "            col_cluster=True,\n",
    "            cmap=\"BrBG\",\n",
    "            annot=True,\n",
    "            linewidths=.5,\n",
    "            cbar_pos=(1,0.1,0.01,0.7))\n",
    "# plt.xlabel(\"nSBM Level 0 Labels\")\n",
    "plt.show()"
   ]
  },
  {
   "cell_type": "code",
   "execution_count": 55,
   "metadata": {},
   "outputs": [],
   "source": [
    "sepline = lambda x: np.cumsum(np.unique(x, return_counts=True)[1])"
   ]
  },
  {
   "cell_type": "code",
   "execution_count": 56,
   "metadata": {},
   "outputs": [],
   "source": [
    "def pretty_print_label(labels):\n",
    "    lbs = labels.copy().tolist()\n",
    "    prev = -1\n",
    "    start_i = 0\n",
    "    for i, a in enumerate(lbs):\n",
    "        if manual_group[a] == manual_group[prev]:\n",
    "            lbs[i] = \"\"\n",
    "        elif i == 0:\n",
    "            lbs[i] = \"\"\n",
    "            prev = a\n",
    "            start_i = i\n",
    "        else:\n",
    "            pos = (start_i + i) // 2\n",
    "            lbs[i] = \"\"\n",
    "            lbs[pos] = manual_group[prev]\n",
    "            prev = a\n",
    "            start_i = i\n",
    "    pos = (start_i + i) // 2\n",
    "    lbs[pos] = manual_group[prev]\n",
    "    return lbs"
   ]
  },
  {
   "cell_type": "code",
   "execution_count": 57,
   "metadata": {},
   "outputs": [],
   "source": [
    "u.clear_filters()"
   ]
  },
  {
   "cell_type": "code",
   "execution_count": 58,
   "metadata": {},
   "outputs": [],
   "source": [
    "abd_filter_mask = np.array(u.vp[\"celltype\"].a)>=14"
   ]
  },
  {
   "cell_type": "code",
   "execution_count": 59,
   "metadata": {},
   "outputs": [],
   "source": [
    "center_filter_mask = np.array(center_filter.a, dtype=bool) "
   ]
  },
  {
   "cell_type": "code",
   "execution_count": 60,
   "metadata": {},
   "outputs": [
    {
     "data": {
      "text/plain": [
       "540"
      ]
     },
     "execution_count": 60,
     "metadata": {},
     "output_type": "execute_result"
    }
   ],
   "source": [
    "center_filter_mask.sum()"
   ]
  },
  {
   "cell_type": "code",
   "execution_count": 61,
   "metadata": {},
   "outputs": [],
   "source": [
    "vw = u.new_vertex_property(\"int32_t\")\n",
    "for i, v in enumerate(u.vertices()):\n",
    "    if u.vp[\"celltype\"][v] >= 14:\n",
    "        vw[v] = 2\n",
    "    elif  u.vp[\"cellid\"][v] in [76202,77267,77268,76562,77931]:\n",
    "        vw[v] = 3\n",
    "    else:\n",
    "        vw[v] = u.vp[\"SBM\"][v]\n",
    "u.vp['SBM+ABD+vSPNs'] = vw"
   ]
  },
  {
   "cell_type": "code",
   "execution_count": 62,
   "metadata": {},
   "outputs": [],
   "source": [
    "spn_filter_mask = np.isin(np.array(u.vp[\"cellid\"].a), [76202,77267,77268,76562,77931])"
   ]
  },
  {
   "cell_type": "code",
   "execution_count": 63,
   "metadata": {},
   "outputs": [],
   "source": [
    "plot_filter_mask = abd_filter_mask + center_filter_mask + spn_filter_mask"
   ]
  },
  {
   "cell_type": "code",
   "execution_count": 64,
   "metadata": {},
   "outputs": [
    {
     "data": {
      "text/plain": [
       "595"
      ]
     },
     "execution_count": 64,
     "metadata": {},
     "output_type": "execute_result"
    }
   ],
   "source": [
    "plot_filter_mask.sum()"
   ]
  },
  {
   "cell_type": "code",
   "execution_count": 65,
   "metadata": {},
   "outputs": [],
   "source": [
    "manual_group = [\"0\", \"1\", \"ABD\", \"vSPNs\"]\n",
    "uol = u.vp[\"SBM+ABD+vSPNs\"].a[plot_filter_mask]\n",
    "celltype_SBM = [\"\"]*len(uol)\n",
    "for i, v in enumerate(uol):\n",
    "    celltype_SBM[i] = manual_group[v]"
   ]
  },
  {
   "cell_type": "code",
   "execution_count": 66,
   "metadata": {},
   "outputs": [],
   "source": [
    "degree_seq = u.get_in_degrees(u.get_vertices())*u.get_out_degrees(u.get_vertices())\n",
    "degree_seq = degree_seq[plot_filter_mask]"
   ]
  },
  {
   "cell_type": "code",
   "execution_count": 67,
   "metadata": {},
   "outputs": [],
   "source": [
    "# ind_nSBML3_type = np.argsort(celltype_nSBM_L2)\n",
    "ind_SBM_type = np.lexsort((degree_seq, celltype_SBM))"
   ]
  },
  {
   "cell_type": "code",
   "execution_count": 68,
   "metadata": {},
   "outputs": [],
   "source": [
    "sep_SBM_type = sepline(celltype_SBM)"
   ]
  },
  {
   "cell_type": "code",
   "execution_count": 69,
   "metadata": {},
   "outputs": [],
   "source": [
    "u_adj_full = gt.adjacency(u, weight=u.ep[\"#synapses\"])"
   ]
  },
  {
   "cell_type": "code",
   "execution_count": 70,
   "metadata": {},
   "outputs": [],
   "source": [
    "u_adj_sub = u_adj_full[plot_filter_mask][:, plot_filter_mask]"
   ]
  },
  {
   "cell_type": "code",
   "execution_count": 71,
   "metadata": {},
   "outputs": [
    {
     "data": {
      "image/png": "[encoded data removed]",
      "text/plain": [
       "<Figure size 1224x1008 with 2 Axes>"
      ]
     },
     "metadata": {},
     "output_type": "display_data"
    }
   ],
   "source": [
    "fig, ax = plt.subplots(figsize=(17,14))\n",
    "# plt.axis('off')\n",
    "sns.heatmap(np.minimum(u_adj_sub.todense()[ind_SBM_type][:,ind_SBM_type],5), \n",
    "            xticklabels=pretty_print_label(u.vp[\"SBM+ABD+vSPNs\"].a[plot_filter_mask][ind_SBM_type]),\n",
    "            yticklabels=pretty_print_label(u.vp[\"SBM+ABD+vSPNs\"].a[plot_filter_mask][ind_SBM_type]),\n",
    "            cmap=\"BrBG\", center=0, ax=ax)\n",
    "ax.hlines(sep_SBM_type, *ax.get_xlim(), linestyles='dashed', linewidths=0.8)\n",
    "ax.vlines(sep_SBM_type, *ax.get_ylim(), linestyles='dashed', linewidths=0.8)\n",
    "\n",
    "ax.tick_params(length=8, width=1.5, labelsize=12)\n",
    "\n",
    "plt.show()"
   ]
  },
  {
   "cell_type": "code",
   "execution_count": 72,
   "metadata": {},
   "outputs": [
    {
     "data": {
      "text/plain": [
       "array([306, 540, 590, 595])"
      ]
     },
     "execution_count": 72,
     "metadata": {},
     "output_type": "execute_result"
    }
   ],
   "source": [
    "sep_SBM_type"
   ]
  },
  {
   "cell_type": "code",
   "execution_count": 73,
   "metadata": {},
   "outputs": [],
   "source": [
    "def norm_conn(mat, col, row):\n",
    "    res = np.zeros((len(row), len(col)))\n",
    "    for i, c in enumerate(col):\n",
    "        for j, r in enumerate(row):\n",
    "            c_prev = 0 if i == 0 else col[i-1]\n",
    "            r_prev = 0 if j == 0 else row[j-1]\n",
    "            c_num = c - c_prev\n",
    "            r_num = r - r_prev\n",
    "            res[j, i] = mat[r_prev:r][:,c_prev:c].sum() / np.sqrt(c_num * r_num)\n",
    "    return res"
   ]
  },
  {
   "cell_type": "code",
   "execution_count": 74,
   "metadata": {},
   "outputs": [
    {
     "data": {
      "text/plain": [
       "array([[19.98366013,  3.02702757],\n",
       "       [ 2.24597972, 17.33760684],\n",
       "       [51.19118592,  2.88444102],\n",
       "       [ 1.17601298,  7.57193423]])"
      ]
     },
     "execution_count": 74,
     "metadata": {},
     "output_type": "execute_result"
    }
   ],
   "source": [
    "norm_conn(u_adj_sub.todense()[ind_SBM_type][:,ind_SBM_type], \n",
    "          sep_SBM_type[:2], sep_SBM_type)"
   ]
  },
  {
   "cell_type": "code",
   "execution_count": 75,
   "metadata": {},
   "outputs": [],
   "source": [
    "with open('saved/finalgraph_SBM_Zfish_eig.data', 'wb') as output:\n",
    "    pickle.dump(u, output, pickle.HIGHEST_PROTOCOL)"
   ]
  },
  {
   "cell_type": "markdown",
   "metadata": {},
   "source": [
    "## Further partition the oculomotor module"
   ]
  },
  {
   "cell_type": "code",
   "execution_count": 76,
   "metadata": {},
   "outputs": [],
   "source": [
    "om_mask = (np.array(u.vp['SBM'].a==0, dtype=bool) & center_filter_mask)\n",
    "\n",
    "om_filter = u.new_vertex_property(\"bool\")\n",
    "for i, v in enumerate(u.vertices()):\n",
    "    om_filter[v] = om_mask[i]\n",
    "\n",
    "u.set_vertex_filter(om_filter)"
   ]
  },
  {
   "cell_type": "code",
   "execution_count": 77,
   "metadata": {},
   "outputs": [],
   "source": [
    "om_SBM = gt.minimize_blockmodel_dl(u, deg_corr=True, \n",
    "                                B_min=2, B_max=2,\n",
    "                                state_args=dict(recs=[u.ep[\"#synapses\"]], \n",
    "                                                   rec_types=[\"discrete-poisson\"]))"
   ]
  },
  {
   "cell_type": "code",
   "execution_count": 78,
   "metadata": {},
   "outputs": [],
   "source": [
    "import pickle\n",
    "with open('saved/SBM_omZfish_eig.data', 'wb') as output:\n",
    "    pickle.dump(om_SBM, output, pickle.HIGHEST_PROTOCOL)\n",
    "\n",
    "with open('saved/SBM_omZfish_eig_u.data', 'wb') as output:\n",
    "    pickle.dump(u, output, pickle.HIGHEST_PROTOCOL)\n",
    "\n",
    "# with open('saved/SBM_omZfish_eig.data', 'rb') as input:    \n",
    "#     om_nSBM = pickle.load(input)\n",
    "\n",
    "# with open('saved/SBM_omZfish_eig_u.data', 'rb') as input:    \n",
    "#     u = pickle.load(input)"
   ]
  },
  {
   "cell_type": "code",
   "execution_count": 79,
   "metadata": {},
   "outputs": [],
   "source": [
    "u.vp[\"om_SBM\"] = om_SBM.get_blocks()"
   ]
  },
  {
   "cell_type": "code",
   "execution_count": 80,
   "metadata": {},
   "outputs": [],
   "source": [
    "sub_center_type_filter_mask = om_mask & center_type_filter_mask"
   ]
  },
  {
   "cell_type": "code",
   "execution_count": 81,
   "metadata": {},
   "outputs": [],
   "source": [
    "dic_omSBM2Type = np.array([u.vp[\"om_SBM\"].a[sub_center_type_filter_mask].tolist(), u.vp[\"celltype\"].a[sub_center_type_filter_mask].tolist()]).T"
   ]
  },
  {
   "cell_type": "code",
   "execution_count": 82,
   "metadata": {},
   "outputs": [],
   "source": [
    "typenames = ['Saccadic_M', 'Saccadic_I', 'IBN', 'IBNmirrorPop', 'RS', 'Vestibular_DO', 'Vestibular_MO', 'Vestibular_TO', 'Integrator_r456I', 'Integrator_r456M', 'Integrator_r456MI', 'Integrator_r56M', 'Integrator_r78ipis', 'Integrator_r78contra', 'Abducens_M', 'Abducens_I']"
   ]
  },
  {
   "cell_type": "code",
   "execution_count": 83,
   "metadata": {
    "scrolled": false
   },
   "outputs": [
    {
     "name": "stdout",
     "output_type": "stream",
     "text": [
      "---\n",
      "SBM type: 0\n",
      "1 x IBN\n",
      "2 x Vestibular_DO\n",
      "47 x Integrator_r456I\n",
      "11 x Integrator_r456MI\n",
      "23 x Integrator_r78ipis\n",
      "---\n",
      "SBM type: 1\n",
      "1 x IBN\n",
      "32 x Vestibular_DO\n",
      "1 x Integrator_r456I\n",
      "15 x Integrator_r456M\n",
      "23 x Integrator_r456MI\n",
      "9 x Integrator_r56M\n",
      "15 x Integrator_r78ipis\n"
     ]
    }
   ],
   "source": [
    "typeM = np.zeros((2, 16))\n",
    "for i in range(2):\n",
    "    print(\"---\")\n",
    "    print(\"SBM type: {}\".format(i))\n",
    "    ids, cnts = np.unique(dic_omSBM2Type[dic_omSBM2Type[:,0]==i][:,1], return_counts=True)\n",
    "    for cnt, nid, name in zip(cnts, ids, np.array(typenames)[ids].tolist()):\n",
    "        typeM[i, nid] = cnt\n",
    "        print(str(cnt)+\" x \"+str(name))"
   ]
  },
  {
   "cell_type": "code",
   "execution_count": 122,
   "metadata": {
    "scrolled": true
   },
   "outputs": [
    {
     "data": {
      "image/png": "[encoded data removed]",
      "text/plain": [
       "<Figure size 216x288 with 4 Axes>"
      ]
     },
     "metadata": {},
     "output_type": "display_data"
    }
   ],
   "source": [
    "# plt.axis('off')\n",
    "type_grid = sns.clustermap(typeM.T[:,::-1], \n",
    "               center=0, \n",
    "            xticklabels=np.arange(2),\n",
    "            yticklabels=typenames,\n",
    "            figsize=(3,4),\n",
    "            row_cluster=True,\n",
    "            col_cluster=True,\n",
    "            cmap=\"BrBG\",\n",
    "            annot=True,\n",
    "            linewidths=.5,\n",
    "            cbar_pos=(1,0.1,0.01,0.7))\n",
    "# plt.xlabel(\"nSBM Level 0 Labels\")\n",
    "plt.show()"
   ]
  },
  {
   "cell_type": "code",
   "execution_count": 85,
   "metadata": {},
   "outputs": [],
   "source": [
    "u.clear_filters()"
   ]
  },
  {
   "cell_type": "code",
   "execution_count": 86,
   "metadata": {},
   "outputs": [],
   "source": [
    "vw = u.new_vertex_property(\"int32_t\")\n",
    "for i, v in enumerate(u.vertices()):\n",
    "    if u.vp[\"celltype\"][v] == 14:\n",
    "        vw[v] = 2\n",
    "    elif  u.vp[\"celltype\"][v] == 15:\n",
    "        vw[v] = 3\n",
    "    else:\n",
    "        vw[v] = u.vp[\"om_SBM\"][v]\n",
    "u.vp['omSBM+ABD_M+ABD_I'] = vw"
   ]
  },
  {
   "cell_type": "code",
   "execution_count": 87,
   "metadata": {},
   "outputs": [],
   "source": [
    "center_filter_mask = np.array(center_filter.a, dtype=bool) \n",
    "plot_filter_mask = abd_filter_mask + (center_filter_mask & om_mask)"
   ]
  },
  {
   "cell_type": "code",
   "execution_count": 88,
   "metadata": {},
   "outputs": [
    {
     "data": {
      "text/plain": [
       "356"
      ]
     },
     "execution_count": 88,
     "metadata": {},
     "output_type": "execute_result"
    }
   ],
   "source": [
    "plot_filter_mask.sum()"
   ]
  },
  {
   "cell_type": "code",
   "execution_count": 101,
   "metadata": {},
   "outputs": [],
   "source": [
    "manual_group = [\"1\", \"0\", \"ABD_M\", \"ABD_I\"]\n",
    "\n",
    "uol = u.vp[\"omSBM+ABD_M+ABD_I\"].a[plot_filter_mask]\n",
    "celltype_SBM = [\"\"]*len(uol)\n",
    "for i, v in enumerate(uol):\n",
    "    celltype_SBM[i] = manual_group[v]"
   ]
  },
  {
   "cell_type": "code",
   "execution_count": 102,
   "metadata": {},
   "outputs": [
    {
     "data": {
      "text/plain": [
       "2817"
      ]
     },
     "execution_count": 102,
     "metadata": {},
     "output_type": "execute_result"
    }
   ],
   "source": [
    "len(u.get_vertices())"
   ]
  },
  {
   "cell_type": "code",
   "execution_count": 103,
   "metadata": {},
   "outputs": [],
   "source": [
    "degree_seq = u.get_in_degrees(u.get_vertices())*u.get_out_degrees(u.get_vertices())\n",
    "degree_seq = degree_seq[plot_filter_mask]"
   ]
  },
  {
   "cell_type": "code",
   "execution_count": 104,
   "metadata": {},
   "outputs": [],
   "source": [
    "# ind_nSBML3_type = np.argsort(celltype_nSBM_L2)\n",
    "ind_SBM_type = np.lexsort((degree_seq, celltype_SBM))"
   ]
  },
  {
   "cell_type": "code",
   "execution_count": 105,
   "metadata": {},
   "outputs": [],
   "source": [
    "sep_SBM_type = sepline(celltype_SBM)"
   ]
  },
  {
   "cell_type": "code",
   "execution_count": 106,
   "metadata": {},
   "outputs": [],
   "source": [
    "u_adj_full = gt.adjacency(u, weight=u.ep[\"#synapses\"])"
   ]
  },
  {
   "cell_type": "code",
   "execution_count": 107,
   "metadata": {},
   "outputs": [],
   "source": [
    "u_adj_sub = u_adj_full[plot_filter_mask][:, plot_filter_mask]"
   ]
  },
  {
   "cell_type": "code",
   "execution_count": 108,
   "metadata": {},
   "outputs": [
    {
     "data": {
      "image/png": "[encoded data removed]",
      "text/plain": [
       "<Figure size 1224x1008 with 2 Axes>"
      ]
     },
     "metadata": {},
     "output_type": "display_data"
    }
   ],
   "source": [
    "fig, ax = plt.subplots(figsize=(17,14))\n",
    "# plt.axis('off')\n",
    "sns.heatmap(np.minimum(u_adj_sub.todense()[ind_SBM_type][:,ind_SBM_type],5), \n",
    "            xticklabels=pretty_print_label(u.vp[\"omSBM+ABD_M+ABD_I\"].a[plot_filter_mask][ind_SBM_type]),\n",
    "            yticklabels=pretty_print_label(u.vp[\"omSBM+ABD_M+ABD_I\"].a[plot_filter_mask][ind_SBM_type]),\n",
    "            cmap=\"BrBG\", center=0, ax=ax)\n",
    "ax.hlines(sep_SBM_type, *ax.get_xlim(), linestyles='dashed', linewidths=0.8)\n",
    "ax.vlines(sep_SBM_type, *ax.get_ylim(), linestyles='dashed', linewidths=0.8)\n",
    "\n",
    "ax.tick_params(length=8, width=1.5, labelsize=12)\n",
    "\n",
    "plt.show()"
   ]
  },
  {
   "cell_type": "code",
   "execution_count": 109,
   "metadata": {},
   "outputs": [
    {
     "data": {
      "text/plain": [
       "array([163, 306, 327, 356])"
      ]
     },
     "execution_count": 109,
     "metadata": {},
     "output_type": "execute_result"
    }
   ],
   "source": [
    "sep_SBM_type"
   ]
  },
  {
   "cell_type": "code",
   "execution_count": 110,
   "metadata": {},
   "outputs": [],
   "source": [
    "def norm_conn(mat, col, row):\n",
    "    res = np.zeros((len(row), len(col)))\n",
    "    for i, c in enumerate(col):\n",
    "        for j, r in enumerate(row):\n",
    "            c_prev = 0 if i == 0 else col[i-1]\n",
    "            r_prev = 0 if j == 0 else row[j-1]\n",
    "            c_num = c - c_prev\n",
    "            r_num = r - r_prev\n",
    "            res[j, i] = mat[r_prev:r][:,c_prev:c].sum() / np.sqrt(c_num * r_num)\n",
    "    return res"
   ]
  },
  {
   "cell_type": "code",
   "execution_count": 111,
   "metadata": {},
   "outputs": [
    {
     "data": {
      "text/plain": [
       "array([[16.92638037,  2.84267957],\n",
       "       [ 4.30331908, 15.83916084],\n",
       "       [14.83598124, 48.08426184],\n",
       "       [38.32549903,  3.01255311]])"
      ]
     },
     "execution_count": 111,
     "metadata": {},
     "output_type": "execute_result"
    }
   ],
   "source": [
    "norm_conn(u_adj_sub.todense()[ind_SBM_type][:,ind_SBM_type], \n",
    "          sep_SBM_type[:2], sep_SBM_type)"
   ]
  },
  {
   "cell_type": "code",
   "execution_count": 112,
   "metadata": {},
   "outputs": [],
   "source": [
    "with open('saved/finalgraph_SBM_omZfish_eig.data', 'wb') as output:\n",
    "    pickle.dump(u, output, pickle.HIGHEST_PROTOCOL)"
   ]
  },
  {
   "cell_type": "code",
   "execution_count": null,
   "metadata": {},
   "outputs": [],
   "source": []
  }
 ],
 "metadata": {
  "kernelspec": {
   "display_name": "playground",
   "language": "python",
   "name": "myenv"
  },
  "language_info": {
   "codemirror_mode": {
    "name": "ipython",
    "version": 3
   },
   "file_extension": ".py",
   "mimetype": "text/x-python",
   "name": "python",
   "nbconvert_exporter": "python",
   "pygments_lexer": "ipython3",
   "version": "3.7.1"
  }
 },
 "nbformat": 4,
 "nbformat_minor": 2
}
