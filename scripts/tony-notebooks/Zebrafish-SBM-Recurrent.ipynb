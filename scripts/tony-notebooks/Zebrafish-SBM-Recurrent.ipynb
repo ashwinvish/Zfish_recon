{
 "cells": [
  {
   "cell_type": "code",
   "execution_count": 1,
   "metadata": {},
   "outputs": [],
   "source": [
    "import networkx as nx\n",
    "import pandas as pd\n",
    "import numpy as np\n",
    "import graph_tool.all as gt\n",
    "\n",
    "from pyvis.network import Network\n",
    "import matplotlib.pyplot as plt\n",
    "import plotly.graph_objects as go\n",
    "import seaborn as sns\n",
    "from IPython.core.display import display\n",
    "from IPython.display import IFrame"
   ]
  },
  {
   "cell_type": "code",
   "execution_count": 2,
   "metadata": {},
   "outputs": [],
   "source": [
    "sns.set()"
   ]
  },
  {
   "cell_type": "markdown",
   "metadata": {},
   "source": [
    "## Data Preparation"
   ]
  },
  {
   "cell_type": "code",
   "execution_count": 3,
   "metadata": {},
   "outputs": [],
   "source": [
    "from scipy.io import loadmat"
   ]
  },
  {
   "cell_type": "code",
   "execution_count": 4,
   "metadata": {},
   "outputs": [],
   "source": [
    "data_path = \"/usr/people/runzhey/seungmount/research/runzhey/FlyModularity/saved/ConnMatrixPre_cleaned.mat\"\n",
    "connmat = loadmat(data_path) \n",
    "data_path = \"/usr/people/runzhey/seungmount/research/runzhey/FlyModularity/saved/AllCells_cleaned.mat\"\n",
    "cellid = loadmat(data_path) \n",
    "data_path = \"/usr/people/runzhey/seungmount/research/runzhey/FlyModularity/saved/cellIDs.mat\"\n",
    "celltypes = loadmat(data_path) "
   ]
  },
  {
   "cell_type": "code",
   "execution_count": 5,
   "metadata": {},
   "outputs": [],
   "source": [
    "connmat = connmat[\"ConnMatrixPre_cleaned\"]\n",
    "cellid = cellid['AllCells_cleaned']\n",
    "typenames = celltypes['cellIDs'].dtype\n",
    "celltypes = celltypes['cellIDs'][0,0]"
   ]
  },
  {
   "cell_type": "code",
   "execution_count": 6,
   "metadata": {},
   "outputs": [],
   "source": [
    "## graph construction\n",
    "\n",
    "g = gt.Graph()\n",
    "idx = connmat.T.nonzero()\n",
    "g.add_edge_list(np.transpose(idx))\n",
    "\n",
    "ew = g.new_edge_property(\"int32_t\")\n",
    "ew.a = connmat.T[idx] \n",
    "g.ep['#synapses'] = ew\n",
    "\n",
    "vw = g.new_vertex_property(\"int32_t\")\n",
    "for i, v in enumerate(g.vertices()):\n",
    "    vw[v] = cellid[i]\n",
    "g.vp['cellid'] = vw"
   ]
  },
  {
   "cell_type": "markdown",
   "metadata": {},
   "source": [
    "## Neuron Types"
   ]
  },
  {
   "cell_type": "code",
   "execution_count": 7,
   "metadata": {},
   "outputs": [],
   "source": [
    "neuron_type = []\n",
    "for cid in cellid.T[0]:\n",
    "    labelled = False\n",
    "    # 16 different neuron types\n",
    "    for i in range(16):\n",
    "        if cid in celltypes[i][0]:\n",
    "            neuron_type.append(i)\n",
    "            labelled = True\n",
    "            break\n",
    "    if not labelled:\n",
    "        # -1 indicates no type has been assigned\n",
    "        neuron_type.append(-1)"
   ]
  },
  {
   "cell_type": "code",
   "execution_count": 8,
   "metadata": {},
   "outputs": [],
   "source": [
    "vw = g.new_vertex_property(\"int32_t\")\n",
    "for i, v in enumerate(g.vertices()):\n",
    "    vw[v] = neuron_type[i]\n",
    "g.vp['celltype'] = vw"
   ]
  },
  {
   "cell_type": "code",
   "execution_count": 9,
   "metadata": {},
   "outputs": [],
   "source": [
    "vw = g.new_vertex_property(\"bool\")\n",
    "for i, v in enumerate(g.vertices()):\n",
    "    vw[v] = neuron_type[i] > -1\n",
    "g.vp['cellselected'] = vw"
   ]
  },
  {
   "cell_type": "markdown",
   "metadata": {},
   "source": [
    "## Preprocess - Remove Isolated Neurons "
   ]
  },
  {
   "cell_type": "code",
   "execution_count": 10,
   "metadata": {},
   "outputs": [
    {
     "name": "stdout",
     "output_type": "stream",
     "text": [
      "<Graph object, directed, with 2883 vertices and 44969 edges, 3 internal vertex properties, 1 internal edge property, at 0x7f3c857d2f60>\n",
      "-----------------------\n",
      "max out-degree is 165 and in-degree is 417\n",
      "-----------------------\n",
      "max out-degree is 0 and in-degree is 0\n"
     ]
    }
   ],
   "source": [
    "print(g)\n",
    "print(\"-----------------------\")\n",
    "print(\"max out-degree is {} and in-degree is {}\".format(\n",
    "    max(g.degree_property_map(\"out\")),\n",
    "    max(g.degree_property_map(\"in\"))))\n",
    "print(\"-----------------------\")\n",
    "print(\"max out-degree is {} and in-degree is {}\".format(\n",
    "    min(g.degree_property_map(\"out\")),\n",
    "    min(g.degree_property_map(\"in\"))))"
   ]
  },
  {
   "cell_type": "code",
   "execution_count": 11,
   "metadata": {},
   "outputs": [
    {
     "name": "stdout",
     "output_type": "stream",
     "text": [
      "There are 59 isolated neurons (indegree and outdegree are 0)\n"
     ]
    }
   ],
   "source": [
    "zero_deg_nodes = []\n",
    "for v in g.vertices():\n",
    "    if v.in_degree() == 0 and v.out_degree() == 0:\n",
    "        zero_deg_nodes.append(v)\n",
    "print(\"There are {} isolated neurons (indegree and outdegree are 0)\".format(\n",
    "    len(zero_deg_nodes)))"
   ]
  },
  {
   "cell_type": "code",
   "execution_count": 12,
   "metadata": {},
   "outputs": [
    {
     "name": "stdout",
     "output_type": "stream",
     "text": [
      "There are 4 abducens neurons have non-zero outdegree\n"
     ]
    }
   ],
   "source": [
    "false_annotation_nodes = []\n",
    "for v in g.vertices():\n",
    "    if g.vp['celltype'][v] == 14 or g.vp['celltype'][v] == 15:\n",
    "        if v.out_degree() > 0:\n",
    "            false_annotation_nodes.append(v)\n",
    "print(\"There are {} abducens neurons have non-zero outdegree\".format(\n",
    "    len(false_annotation_nodes)))"
   ]
  },
  {
   "cell_type": "code",
   "execution_count": 13,
   "metadata": {},
   "outputs": [],
   "source": [
    "for v in reversed(sorted(zero_deg_nodes+false_annotation_nodes)):\n",
    "    g.remove_vertex(v)"
   ]
  },
  {
   "cell_type": "markdown",
   "metadata": {},
   "source": [
    "## Preprocess - Extract Connected Components"
   ]
  },
  {
   "cell_type": "code",
   "execution_count": 14,
   "metadata": {},
   "outputs": [],
   "source": [
    "g_wcp, wcp_hist = gt.label_components(g, directed= False)"
   ]
  },
  {
   "cell_type": "code",
   "execution_count": 15,
   "metadata": {},
   "outputs": [
    {
     "name": "stdout",
     "output_type": "stream",
     "text": [
      "[   1    2 2817]\n"
     ]
    },
    {
     "data": {
      "image/png": "[encoded data removed]",
      "text/plain": [
       "<Figure size 432x288 with 1 Axes>"
      ]
     },
     "metadata": {},
     "output_type": "display_data"
    }
   ],
   "source": [
    "print(np.sort(wcp_hist))\n",
    "plt.plot(np.sort(wcp_hist))\n",
    "plt.xlabel(\"weakly connected component-id\")\n",
    "plt.ylabel(\"#neurons\")\n",
    "plt.show()"
   ]
  },
  {
   "cell_type": "code",
   "execution_count": 16,
   "metadata": {},
   "outputs": [
    {
     "name": "stdout",
     "output_type": "stream",
     "text": [
      "the largest weakly connected componed contains 2817 neurons\n"
     ]
    }
   ],
   "source": [
    "print(\"the largest weakly connected componed contains {} neurons\".format(wcp_hist.max()))"
   ]
  },
  {
   "cell_type": "code",
   "execution_count": 17,
   "metadata": {},
   "outputs": [],
   "source": [
    "g_scp, scp_hist = gt.label_components(g, directed = True)"
   ]
  },
  {
   "cell_type": "code",
   "execution_count": 18,
   "metadata": {},
   "outputs": [
    {
     "name": "stdout",
     "output_type": "stream",
     "text": [
      "[  1   1   1 ...   1   1 540]\n"
     ]
    },
    {
     "data": {
      "image/png": "[encoded data removed]",
      "text/plain": [
       "<Figure size 432x288 with 1 Axes>"
      ]
     },
     "metadata": {},
     "output_type": "display_data"
    }
   ],
   "source": [
    "print(np.sort(scp_hist))\n",
    "plt.plot(np.sort(scp_hist))\n",
    "plt.xlabel(\"weakly connected component-id\")\n",
    "plt.ylabel(\"#neurons\")\n",
    "plt.show()"
   ]
  },
  {
   "cell_type": "code",
   "execution_count": 19,
   "metadata": {},
   "outputs": [
    {
     "name": "stdout",
     "output_type": "stream",
     "text": [
      "the largest strongly connected componed contains 540 neurons\n"
     ]
    }
   ],
   "source": [
    "print(\"the largest strongly connected componed contains {} neurons\".format(scp_hist.max()))"
   ]
  },
  {
   "cell_type": "code",
   "execution_count": 20,
   "metadata": {},
   "outputs": [
    {
     "name": "stdout",
     "output_type": "stream",
     "text": [
      "<GraphView object, directed, with 2817 vertices and 44311 edges, 3 internal vertex properties, 1 internal edge property, edges filtered by (<EdgePropertyMap object with value type 'bool', for Graph 0x7f3c857d9f28, at 0x7f3c857d2518>, False), vertices filtered by (<VertexPropertyMap object with value type 'bool', for Graph 0x7f3c857d9f28, at 0x7f3c857d2828>, False), at 0x7f3c857d9f28>\n"
     ]
    }
   ],
   "source": [
    "# extract the largest weakly connnected subgraph\n",
    "u = gt.extract_largest_component(g, directed=False)\n",
    "print(u)"
   ]
  },
  {
   "cell_type": "code",
   "execution_count": 21,
   "metadata": {},
   "outputs": [],
   "source": [
    "# %%time\n",
    "# pos = gt.sfdp_layout(u)\n",
    "# gt.graph_draw(u, pos=pos, inline=True)"
   ]
  },
  {
   "cell_type": "code",
   "execution_count": 22,
   "metadata": {},
   "outputs": [],
   "source": [
    "# %%time\n",
    "# # pos = gt.sfdp_layout(u)\n",
    "# gt.graph_draw(u, pos=pos, vertex_fill_color=u.vp['celltype'], inline=True)"
   ]
  },
  {
   "cell_type": "code",
   "execution_count": 23,
   "metadata": {},
   "outputs": [],
   "source": [
    "wcp_filter, _ = u.get_vertex_filter()"
   ]
  },
  {
   "cell_type": "code",
   "execution_count": 24,
   "metadata": {},
   "outputs": [],
   "source": [
    "wcp_type_filter = g.new_vertex_property(\"bool\")\n",
    "for i, v in enumerate(g.vertices()):\n",
    "    wcp_type_filter[v] = wcp_filter[v] & g.vp['cellselected'][v]"
   ]
  },
  {
   "cell_type": "code",
   "execution_count": 25,
   "metadata": {},
   "outputs": [],
   "source": [
    "u.set_vertex_filter(wcp_type_filter)"
   ]
  },
  {
   "cell_type": "code",
   "execution_count": 26,
   "metadata": {},
   "outputs": [],
   "source": [
    "_, temphist =  gt.label_components(u, directed=False)"
   ]
  },
  {
   "cell_type": "code",
   "execution_count": 27,
   "metadata": {},
   "outputs": [
    {
     "data": {
      "text/plain": [
       "array([  1,   1,   1,   1,   1,   1, 378], dtype=uint64)"
      ]
     },
     "execution_count": 27,
     "metadata": {},
     "output_type": "execute_result"
    }
   ],
   "source": [
    "np.sort(temphist)"
   ]
  },
  {
   "cell_type": "code",
   "execution_count": 28,
   "metadata": {},
   "outputs": [],
   "source": [
    "# %%time\n",
    "# pos = gt.sfdp_layout(u, gamma=10.0)\n",
    "# gt.graph_draw(u, pos=pos, vertex_text=u.vp['celltype'], \n",
    "#               vertex_fill_color=u.vp['celltype'], inline=True)"
   ]
  },
  {
   "cell_type": "code",
   "execution_count": 29,
   "metadata": {},
   "outputs": [],
   "source": [
    "u.set_vertex_filter(wcp_filter)"
   ]
  },
  {
   "cell_type": "code",
   "execution_count": 30,
   "metadata": {},
   "outputs": [],
   "source": [
    "u = gt.Graph(u, prune=True)"
   ]
  },
  {
   "cell_type": "code",
   "execution_count": 31,
   "metadata": {},
   "outputs": [],
   "source": [
    "wcp_type_filter = u.new_vertex_property(\"bool\")\n",
    "for i, v in enumerate(u.vertices()):\n",
    "    wcp_type_filter[v] = u.vp['cellselected'][v]"
   ]
  },
  {
   "cell_type": "code",
   "execution_count": 32,
   "metadata": {},
   "outputs": [
    {
     "name": "stdout",
     "output_type": "stream",
     "text": [
      "<Graph object, directed, with 2817 vertices and 44311 edges, 3 internal vertex properties, 1 internal edge property, at 0x7f3c857d9f98>\n"
     ]
    }
   ],
   "source": [
    "print(u)"
   ]
  },
  {
   "cell_type": "markdown",
   "metadata": {},
   "source": [
    "we only apply modularity analysis to these connected 2822 neurons."
   ]
  },
  {
   "cell_type": "code",
   "execution_count": 43,
   "metadata": {},
   "outputs": [
    {
     "data": {
      "text/plain": [
       "(array([4.725e+03, 1.384e+03, 5.530e+02, 2.280e+02, 1.110e+02, 5.300e+01,\n",
       "        4.100e+01, 1.600e+01, 7.000e+00, 6.000e+00, 2.000e+00, 1.000e+00,\n",
       "        3.000e+00, 1.000e+00, 0.000e+00, 0.000e+00, 0.000e+00, 0.000e+00,\n",
       "        0.000e+00, 0.000e+00, 1.000e+00, 0.000e+00, 0.000e+00, 0.000e+00]),\n",
       " array([ 1,  2,  3,  4,  5,  6,  7,  8,  9, 10, 11, 12, 13, 14, 15, 16, 17,\n",
       "        18, 19, 20, 21, 22, 23, 24, 25]),\n",
       " <a list of 24 Patch objects>)"
      ]
     },
     "execution_count": 43,
     "metadata": {},
     "output_type": "execute_result"
    },
    {
     "data": {
      "image/png": "[encoded data removed]",
      "text/plain": [
       "<Figure size 432x288 with 1 Axes>"
      ]
     },
     "metadata": {},
     "output_type": "display_data"
    }
   ],
   "source": [
    "import seaborn as sns\n",
    "plt.hist(u.ep[\"#synapses\"].a, bins=np.arange(1,26,1))"
   ]
  },
  {
   "cell_type": "code",
   "execution_count": 44,
   "metadata": {},
   "outputs": [
    {
     "data": {
      "text/plain": [
       "PropertyArray(4725)"
      ]
     },
     "execution_count": 44,
     "metadata": {},
     "output_type": "execute_result"
    }
   ],
   "source": [
    "(u.ep[\"#synapses\"].a == 1).sum()"
   ]
  },
  {
   "cell_type": "code",
   "execution_count": 49,
   "metadata": {},
   "outputs": [
    {
     "data": {
      "text/plain": [
       "<Graph object, directed, with 540 vertices and 7132 edges, 3 internal vertex properties, 1 internal edge property, at 0x7f778a6a9828>"
      ]
     },
     "execution_count": 49,
     "metadata": {},
     "output_type": "execute_result"
    }
   ],
   "source": [
    "u"
   ]
  },
  {
   "cell_type": "code",
   "execution_count": 45,
   "metadata": {},
   "outputs": [
    {
     "data": {
      "text/plain": [
       "PropertyArray(0.66250701)"
      ]
     },
     "execution_count": 45,
     "metadata": {},
     "output_type": "execute_result"
    }
   ],
   "source": [
    "(u.ep[\"#synapses\"].a == 1).sum() / len(u.ep[\"#synapses\"].a)"
   ]
  },
  {
   "cell_type": "markdown",
   "metadata": {},
   "source": [
    "##  Eigencentrality Subgraph\n",
    "directly load from Louvain results."
   ]
  },
  {
   "cell_type": "code",
   "execution_count": 33,
   "metadata": {},
   "outputs": [],
   "source": [
    "data_path = \"/usr/people/runzhey/seungmount/research/runzhey/FlyModularity/saved/MatOrder_CO_top600_2blocks_07222020.mat\"\n",
    "lou_cellid = loadmat(data_path) \n",
    "data_path = \"/usr/people/runzhey/seungmount/research/runzhey/FlyModularity/saved/cellIDType_CO_top600_2blocks_07222020.mat\"\n",
    "lou_celltypes = loadmat(data_path)\n",
    "\n",
    "lou_cellid = lou_cellid['MatOrder_CO_top600_2blocks_07222020'].T\n",
    "lou_celltypes = lou_celltypes['cellIDType_CO_top600_2blocks_07222020']"
   ]
  },
  {
   "cell_type": "code",
   "execution_count": 34,
   "metadata": {},
   "outputs": [],
   "source": [
    "eigenmask = np.isin(lou_celltypes, ['_Axl_', '_DOs_', '_Int_'])\n",
    "eigencenter = lou_cellid[eigenmask]"
   ]
  },
  {
   "cell_type": "code",
   "execution_count": 35,
   "metadata": {},
   "outputs": [],
   "source": [
    "center_filter = u.new_vertex_property(\"bool\")\n",
    "for v in u.vertices():\n",
    "    center_filter[v] = u.vp[\"cellid\"][v] in eigencenter"
   ]
  },
  {
   "cell_type": "code",
   "execution_count": 36,
   "metadata": {},
   "outputs": [
    {
     "data": {
      "text/plain": [
       "PropertyArray(599, dtype=uint64)"
      ]
     },
     "execution_count": 36,
     "metadata": {},
     "output_type": "execute_result"
    }
   ],
   "source": [
    "(center_filter.a).sum()"
   ]
  },
  {
   "cell_type": "code",
   "execution_count": 37,
   "metadata": {},
   "outputs": [],
   "source": [
    "center_type_filter = u.new_vertex_property(\"bool\")\n",
    "for i, v in enumerate(u.vertices()):\n",
    "    center_type_filter[v] = u.vp['cellselected'][v] and center_filter[v]"
   ]
  },
  {
   "cell_type": "code",
   "execution_count": 38,
   "metadata": {},
   "outputs": [],
   "source": [
    "u.set_vertex_filter(center_filter)"
   ]
  },
  {
   "cell_type": "code",
   "execution_count": 39,
   "metadata": {},
   "outputs": [
    {
     "data": {
      "text/plain": [
       "<Graph object, directed, with 599 vertices and 7754 edges, 3 internal vertex properties, 1 internal edge property, edges filtered by (<EdgePropertyMap object with value type 'bool', for Graph 0x7f3c857d9f98, at 0x7f3c857d25f8>, False), vertices filtered by (<VertexPropertyMap object with value type 'bool', for Graph 0x7f3c857d9f98, at 0x7f3c857d91d0>, False), at 0x7f3c857d9f98>"
      ]
     },
     "execution_count": 39,
     "metadata": {},
     "output_type": "execute_result"
    }
   ],
   "source": [
    "u"
   ]
  },
  {
   "cell_type": "code",
   "execution_count": null,
   "metadata": {},
   "outputs": [],
   "source": []
  },
  {
   "cell_type": "markdown",
   "metadata": {},
   "source": [
    "## Algorithm1 - Nested Stochastic Block Models"
   ]
  },
  {
   "cell_type": "code",
   "execution_count": 48,
   "metadata": {},
   "outputs": [
    {
     "name": "stdout",
     "output_type": "stream",
     "text": [
      "shrinking 599 -> 461\n",
      "B=461  niter:     1  count:    0  breaks:  0  min_S: 52102.818  max_S: 52254.615  S: 52102.818  ΔS:     -151.797  moves:    75 \n",
      "B=461  niter:     2  count:    0  breaks:  0  min_S: 52044.977  max_S: 52254.615  S: 52044.977  ΔS:     -57.8412  moves:    34 \n",
      "B=461  niter:     3  count:    0  breaks:  0  min_S: 52019.387  max_S: 52254.615  S: 52019.387  ΔS:     -25.5899  moves:    27 \n",
      "B=461  niter:     4  count:    0  breaks:  0  min_S: 52000.418  max_S: 52254.615  S: 52000.418  ΔS:     -18.9689  moves:    17 \n",
      "B=461  niter:     5  count:    0  breaks:  0  min_S: 51979.429  max_S: 52254.615  S: 51979.429  ΔS:     -20.9884  moves:    16 \n",
      "B=461  niter:     6  count:    0  breaks:  0  min_S: 51965.422  max_S: 52254.615  S: 51965.422  ΔS:     -14.0073  moves:    12 \n",
      "B=461  niter:     7  count:    1  breaks:  1  min_S: 51965.422  max_S: 52254.615  S: 51960.773  ΔS:     -4.64904  moves:     9 \n",
      "shrinking 461 -> 355\n",
      "B=355  niter:     1  count:    0  breaks:  0  min_S: 50946.665  max_S: 51118.708  S: 50946.665  ΔS:     -172.043  moves:    90 \n",
      "B=355  niter:     2  count:    0  breaks:  0  min_S: 50903.305  max_S: 51118.708  S: 50903.305  ΔS:     -43.3594  moves:    32 \n",
      "B=355  niter:     3  count:    0  breaks:  0  min_S: 50872.899  max_S: 51118.708  S: 50872.899  ΔS:     -30.4066  moves:    27 \n",
      "B=355  niter:     4  count:    0  breaks:  0  min_S: 50845.141  max_S: 51118.708  S: 50845.141  ΔS:     -27.7576  moves:    23 \n",
      "B=355  niter:     5  count:    0  breaks:  0  min_S: 50825.514  max_S: 51118.708  S: 50825.514  ΔS:     -19.6269  moves:    17 \n",
      "B=355  niter:     6  count:    0  breaks:  0  min_S: 50813.372  max_S: 51118.708  S: 50813.372  ΔS:     -12.1420  moves:    18 \n",
      "B=355  niter:     7  count:    0  breaks:  0  min_S: 50803.927  max_S: 51118.708  S: 50803.927  ΔS:     -9.44515  moves:    11 \n",
      "B=355  niter:     8  count:    0  breaks:  0  min_S: 50794.217  max_S: 51118.708  S: 50794.217  ΔS:     -9.71003  moves:     9 \n",
      "B=355  niter:     9  count:    0  breaks:  0  min_S: 50787.343  max_S: 51118.708  S: 50787.343  ΔS:     -6.87405  moves:     6 \n",
      "B=355  niter:    10  count:    1  breaks:  1  min_S: 50787.343  max_S: 51118.708  S: 50783.003  ΔS:     -4.34013  moves:     6 \n",
      "shrinking 355 -> 273\n",
      "B=273  niter:     1  count:    0  breaks:  0  min_S: 50110.919  max_S: 50257.313  S: 50110.919  ΔS:     -146.394  moves:    72 \n",
      "B=273  niter:     2  count:    0  breaks:  0  min_S: 50050.565  max_S: 50257.313  S: 50050.565  ΔS:     -60.3545  moves:    40 \n",
      "B=273  niter:     3  count:    0  breaks:  0  min_S: 50003.723  max_S: 50257.313  S: 50003.723  ΔS:     -46.8415  moves:    34 \n",
      "B=273  niter:     4  count:    0  breaks:  0  min_S: 49968.531  max_S: 50257.313  S: 49968.531  ΔS:     -35.1925  moves:    27 \n",
      "B=273  niter:     5  count:    0  breaks:  0  min_S: 49942.385  max_S: 50257.313  S: 49942.385  ΔS:     -26.1459  moves:    20 \n",
      "B=273  niter:     6  count:    0  breaks:  0  min_S: 49908.702  max_S: 50257.313  S: 49908.702  ΔS:     -33.6828  moves:    24 \n",
      "B=273  niter:     7  count:    0  breaks:  0  min_S: 49888.798  max_S: 50257.313  S: 49888.798  ΔS:     -19.9040  moves:    17 \n",
      "B=273  niter:     8  count:    0  breaks:  0  min_S: 49869.030  max_S: 50257.313  S: 49869.030  ΔS:     -19.7683  moves:    17 \n",
      "B=273  niter:     9  count:    0  breaks:  0  min_S: 49856.650  max_S: 50257.313  S: 49856.650  ΔS:     -12.3795  moves:    10 \n",
      "B=273  niter:    10  count:    0  breaks:  0  min_S: 49846.891  max_S: 50257.313  S: 49846.891  ΔS:     -9.75869  moves:    10 \n",
      "B=273  niter:    11  count:    0  breaks:  0  min_S: 49830.887  max_S: 50257.313  S: 49830.887  ΔS:     -16.0038  moves:    12 \n",
      "B=273  niter:    12  count:    0  breaks:  0  min_S: 49818.225  max_S: 50257.313  S: 49818.225  ΔS:     -12.6628  moves:     6 \n",
      "B=273  niter:    13  count:    0  breaks:  0  min_S: 49810.204  max_S: 50257.313  S: 49810.204  ΔS:     -8.02051  moves:     8 \n",
      "B=273  niter:    14  count:    0  breaks:  0  min_S: 49801.696  max_S: 50257.313  S: 49801.696  ΔS:     -8.50797  moves:    10 \n",
      "B=273  niter:    15  count:    0  breaks:  0  min_S: 49795.440  max_S: 50257.313  S: 49795.440  ΔS:     -6.25607  moves:     7 \n",
      "B=273  niter:    16  count:    0  breaks:  0  min_S: 49782.324  max_S: 50257.313  S: 49782.324  ΔS:     -13.1157  moves:    18 \n",
      "B=273  niter:    17  count:    0  breaks:  0  min_S: 49768.717  max_S: 50257.313  S: 49768.717  ΔS:     -13.6071  moves:    11 \n",
      "B=273  niter:    18  count:    0  breaks:  0  min_S: 49762.285  max_S: 50257.313  S: 49762.285  ΔS:     -6.43270  moves:     6 \n",
      "B=273  niter:    19  count:    0  breaks:  0  min_S: 49756.533  max_S: 50257.313  S: 49756.533  ΔS:     -5.75175  moves:     6 \n",
      "B=273  niter:    20  count:    0  breaks:  0  min_S: 49748.053  max_S: 50257.313  S: 49748.053  ΔS:     -8.47996  moves:     6 \n",
      "B=273  niter:    21  count:    1  breaks:  1  min_S: 49748.053  max_S: 50257.313  S: 49747.687  ΔS:    -0.366014  moves:     3 \n",
      "shrinking 273 -> 210\n",
      "B=210  niter:     1  count:    0  breaks:  0  min_S: 48998.181  max_S: 49191.380  S: 48998.181  ΔS:     -193.199  moves:    56 \n",
      "B=210  niter:     2  count:    0  breaks:  0  min_S: 48940.185  max_S: 49191.380  S: 48940.185  ΔS:     -57.9958  moves:    28 \n",
      "B=210  niter:     3  count:    0  breaks:  0  min_S: 48879.219  max_S: 49191.380  S: 48879.219  ΔS:     -60.9656  moves:    34 \n",
      "B=210  niter:     4  count:    0  breaks:  0  min_S: 48854.787  max_S: 49191.380  S: 48854.787  ΔS:     -24.4321  moves:    15 \n",
      "B=210  niter:     5  count:    0  breaks:  0  min_S: 48834.261  max_S: 49191.380  S: 48834.261  ΔS:     -20.5261  moves:     9 \n",
      "B=210  niter:     6  count:    0  breaks:  0  min_S: 48816.178  max_S: 49191.380  S: 48816.178  ΔS:     -18.0834  moves:    17 \n",
      "B=210  niter:     7  count:    0  breaks:  0  min_S: 48774.773  max_S: 49191.380  S: 48774.773  ΔS:     -41.4045  moves:    21 \n",
      "B=210  niter:     8  count:    0  breaks:  0  min_S: 48750.629  max_S: 49191.380  S: 48750.629  ΔS:     -24.1443  moves:    22 \n",
      "B=210  niter:     9  count:    0  breaks:  0  min_S: 48736.174  max_S: 49191.380  S: 48736.174  ΔS:     -14.4547  moves:    13 \n",
      "B=210  niter:    10  count:    0  breaks:  0  min_S: 48715.989  max_S: 49191.380  S: 48715.989  ΔS:     -20.1848  moves:    12 \n",
      "B=210  niter:    11  count:    0  breaks:  0  min_S: 48709.449  max_S: 49191.380  S: 48709.449  ΔS:     -6.54026  moves:     9 \n",
      "B=210  niter:    12  count:    0  breaks:  0  min_S: 48688.877  max_S: 49191.380  S: 48688.877  ΔS:     -20.5724  moves:    14 \n",
      "B=210  niter:    13  count:    0  breaks:  0  min_S: 48682.662  max_S: 49191.380  S: 48682.662  ΔS:     -6.21472  moves:     4 \n",
      "B=210  niter:    14  count:    0  breaks:  0  min_S: 48674.096  max_S: 49191.380  S: 48674.096  ΔS:     -8.56629  moves:     6 \n",
      "B=210  niter:    15  count:    0  breaks:  0  min_S: 48658.184  max_S: 49191.380  S: 48658.184  ΔS:     -15.9115  moves:     5 \n",
      "B=210  niter:    16  count:    1  breaks:  1  min_S: 48658.184  max_S: 49191.380  S: 48654.250  ΔS:     -3.93384  moves:     5 \n",
      "shrinking 210 -> 162\n",
      "B=162  niter:     1  count:    0  breaks:  0  min_S: 47615.868  max_S: 47743.748  S: 47615.868  ΔS:     -127.880  moves:    45 \n",
      "B=162  niter:     2  count:    0  breaks:  0  min_S: 47518.475  max_S: 47743.748  S: 47518.475  ΔS:     -97.3928  moves:    39 \n",
      "B=162  niter:     3  count:    0  breaks:  0  min_S: 47488.050  max_S: 47743.748  S: 47488.050  ΔS:     -30.4249  moves:    25 \n",
      "B=162  niter:     4  count:    0  breaks:  0  min_S: 47443.346  max_S: 47743.748  S: 47443.346  ΔS:     -44.7038  moves:    33 \n",
      "B=162  niter:     5  count:    0  breaks:  0  min_S: 47421.433  max_S: 47743.748  S: 47421.433  ΔS:     -21.9126  moves:    21 \n",
      "B=162  niter:     6  count:    0  breaks:  0  min_S: 47395.936  max_S: 47743.748  S: 47395.936  ΔS:     -25.4973  moves:    14 \n",
      "B=162  niter:     7  count:    0  breaks:  0  min_S: 47365.731  max_S: 47743.748  S: 47365.731  ΔS:     -30.2053  moves:    11 \n",
      "B=162  niter:     8  count:    0  breaks:  0  min_S: 47327.169  max_S: 47743.748  S: 47327.169  ΔS:     -38.5615  moves:    17 \n",
      "B=162  niter:     9  count:    1  breaks:  1  min_S: 47327.169  max_S: 47743.748  S: 47322.792  ΔS:     -4.37750  moves:     5 \n",
      "shrinking 162 -> 125\n",
      "B=125  niter:     1  count:    0  breaks:  0  min_S: 46163.255  max_S: 46285.858  S: 46163.255  ΔS:     -122.603  moves:    40 \n",
      "B=125  niter:     2  count:    0  breaks:  0  min_S: 46070.629  max_S: 46285.858  S: 46070.629  ΔS:     -92.6265  moves:    29 \n",
      "B=125  niter:     3  count:    0  breaks:  0  min_S: 46017.177  max_S: 46285.858  S: 46017.177  ΔS:     -53.4517  moves:    30 \n",
      "B=125  niter:     4  count:    0  breaks:  0  min_S: 45968.813  max_S: 46285.858  S: 45968.813  ΔS:     -48.3645  moves:    15 \n",
      "B=125  niter:     5  count:    0  breaks:  0  min_S: 45939.068  max_S: 46285.858  S: 45939.068  ΔS:     -29.7441  moves:    15 \n",
      "B=125  niter:     6  count:    0  breaks:  0  min_S: 45917.661  max_S: 46285.858  S: 45917.661  ΔS:     -21.4072  moves:    14 \n",
      "B=125  niter:     7  count:    0  breaks:  0  min_S: 45900.907  max_S: 46285.858  S: 45900.907  ΔS:     -16.7539  moves:    11 \n",
      "B=125  niter:     8  count:    0  breaks:  0  min_S: 45884.305  max_S: 46285.858  S: 45884.305  ΔS:     -16.6020  moves:    11 \n",
      "B=125  niter:     9  count:    0  breaks:  0  min_S: 45864.953  max_S: 46285.858  S: 45864.953  ΔS:     -19.3523  moves:    12 \n",
      "B=125  niter:    10  count:    0  breaks:  0  min_S: 45851.967  max_S: 46285.858  S: 45851.967  ΔS:     -12.9861  moves:     7 \n",
      "B=125  niter:    11  count:    0  breaks:  0  min_S: 45804.241  max_S: 46285.858  S: 45804.241  ΔS:     -47.7257  moves:    18 \n",
      "B=125  niter:    12  count:    0  breaks:  0  min_S: 45774.002  max_S: 46285.858  S: 45774.002  ΔS:     -30.2390  moves:    17 \n",
      "B=125  niter:    13  count:    0  breaks:  0  min_S: 45749.880  max_S: 46285.858  S: 45749.880  ΔS:     -24.1223  moves:     8 \n",
      "B=125  niter:    14  count:    0  breaks:  0  min_S: 45731.076  max_S: 46285.858  S: 45731.076  ΔS:     -18.8041  moves:    13 \n",
      "B=125  niter:    15  count:    0  breaks:  0  min_S: 45718.930  max_S: 46285.858  S: 45718.930  ΔS:     -12.1460  moves:     7 \n",
      "B=125  niter:    16  count:    0  breaks:  0  min_S: 45710.829  max_S: 46285.858  S: 45710.829  ΔS:     -8.10123  moves:     4 \n",
      "B=125  niter:    17  count:    0  breaks:  0  min_S: 45701.320  max_S: 46285.858  S: 45701.320  ΔS:     -9.50839  moves:    12 \n",
      "B=125  niter:    18  count:    0  breaks:  0  min_S: 45696.156  max_S: 46285.858  S: 45696.156  ΔS:     -5.16423  moves:     8 \n",
      "B=125  niter:    19  count:    0  breaks:  0  min_S: 45684.213  max_S: 46285.858  S: 45684.213  ΔS:     -11.9428  moves:     6 \n",
      "B=125  niter:    20  count:    0  breaks:  0  min_S: 45672.563  max_S: 46285.858  S: 45672.563  ΔS:     -11.6500  moves:     7 \n",
      "B=125  niter:    21  count:    1  breaks:  1  min_S: 45672.563  max_S: 46285.858  S: 45671.294  ΔS:     -1.26965  moves:     3 \n",
      "shrinking 125 -> 96\n",
      "B=96  niter:     1  count:    0  breaks:  0  min_S: 44372.398  max_S: 44461.692  S: 44372.398  ΔS:     -89.2934  moves:    27 \n",
      "B=96  niter:     2  count:    0  breaks:  0  min_S: 44335.772  max_S: 44461.692  S: 44335.772  ΔS:     -36.6266  moves:    14 \n",
      "B=96  niter:     3  count:    0  breaks:  0  min_S: 44310.515  max_S: 44461.692  S: 44310.515  ΔS:     -25.2563  moves:    15 \n",
      "B=96  niter:     4  count:    0  breaks:  0  min_S: 44268.186  max_S: 44461.692  S: 44268.186  ΔS:     -42.3288  moves:    19 \n",
      "B=96  niter:     5  count:    0  breaks:  0  min_S: 44257.255  max_S: 44461.692  S: 44257.255  ΔS:     -10.9312  moves:     6 \n",
      "B=96  niter:     6  count:    0  breaks:  0  min_S: 44243.969  max_S: 44461.692  S: 44243.969  ΔS:     -13.2865  moves:     8 \n",
      "B=96  niter:     7  count:    0  breaks:  0  min_S: 44237.000  max_S: 44461.692  S: 44237.000  ΔS:     -6.96855  moves:     8 \n",
      "B=96  niter:     8  count:    0  breaks:  0  min_S: 44224.006  max_S: 44461.692  S: 44224.006  ΔS:     -12.9946  moves:    13 \n",
      "B=96  niter:     9  count:    0  breaks:  0  min_S: 44218.022  max_S: 44461.692  S: 44218.022  ΔS:     -5.98362  moves:     6 \n",
      "B=96  niter:    10  count:    0  breaks:  0  min_S: 44204.238  max_S: 44461.692  S: 44204.238  ΔS:     -13.7841  moves:     5 \n",
      "B=96  niter:    11  count:    0  breaks:  0  min_S: 44194.340  max_S: 44461.692  S: 44194.340  ΔS:     -9.89744  moves:    10 \n",
      "B=96  niter:    12  count:    0  breaks:  0  min_S: 44182.720  max_S: 44461.692  S: 44182.720  ΔS:     -11.6207  moves:     5 \n",
      "B=96  niter:    13  count:    1  breaks:  1  min_S: 44182.720  max_S: 44461.692  S: 44180.609  ΔS:     -2.11057  moves:     4 \n",
      "shrinking 96 -> 74\n",
      "B=74  niter:     1  count:    0  breaks:  0  min_S: 42992.136  max_S: 43059.289  S: 42992.136  ΔS:     -67.1536  moves:    23 \n",
      "B=74  niter:     2  count:    0  breaks:  0  min_S: 42949.456  max_S: 43059.289  S: 42949.456  ΔS:     -42.6796  moves:    18 \n",
      "B=74  niter:     3  count:    0  breaks:  0  min_S: 42884.349  max_S: 43059.289  S: 42884.349  ΔS:     -65.1067  moves:    18 \n",
      "B=74  niter:     4  count:    0  breaks:  0  min_S: 42862.757  max_S: 43059.289  S: 42862.757  ΔS:     -21.5925  moves:    12 \n",
      "B=74  niter:     5  count:    0  breaks:  0  min_S: 42845.197  max_S: 43059.289  S: 42845.197  ΔS:     -17.5601  moves:    12 \n",
      "B=74  niter:     6  count:    0  breaks:  0  min_S: 42828.463  max_S: 43059.289  S: 42828.463  ΔS:     -16.7335  moves:     6 \n",
      "B=74  niter:     7  count:    0  breaks:  0  min_S: 42819.813  max_S: 43059.289  S: 42819.813  ΔS:     -8.64971  moves:     5 \n",
      "B=74  niter:     8  count:    1  breaks:  1  min_S: 42819.813  max_S: 43059.289  S: 42816.618  ΔS:     -3.19518  moves:     4 \n",
      "shrinking 74 -> 57\n",
      "B=57  niter:     1  count:    0  breaks:  0  min_S: 41970.639  max_S: 42013.653  S: 41970.639  ΔS:     -43.0142  moves:    17 \n",
      "B=57  niter:     2  count:    0  breaks:  0  min_S: 41934.499  max_S: 42013.653  S: 41934.499  ΔS:     -36.1395  moves:    26 \n",
      "B=57  niter:     3  count:    0  breaks:  0  min_S: 41889.700  max_S: 42013.653  S: 41889.700  ΔS:     -44.7986  moves:    14 \n",
      "B=57  niter:     4  count:    0  breaks:  0  min_S: 41875.353  max_S: 42013.653  S: 41875.353  ΔS:     -14.3476  moves:     8 \n",
      "B=57  niter:     5  count:    0  breaks:  0  min_S: 41857.605  max_S: 42013.653  S: 41857.605  ΔS:     -17.7484  moves:    10 \n",
      "B=57  niter:     6  count:    0  breaks:  0  min_S: 41848.347  max_S: 42013.653  S: 41848.347  ΔS:     -9.25705  moves:     2 \n",
      "B=57  niter:     7  count:    0  breaks:  0  min_S: 41840.655  max_S: 42013.653  S: 41840.655  ΔS:     -7.69201  moves:     8 \n",
      "B=57  niter:     8  count:    0  breaks:  0  min_S: 41821.762  max_S: 42013.653  S: 41821.762  ΔS:     -18.8931  moves:     6 \n",
      "B=57  niter:     9  count:    0  breaks:  0  min_S: 41814.783  max_S: 42013.653  S: 41814.783  ΔS:     -6.97937  moves:     6 \n",
      "B=57  niter:    10  count:    1  breaks:  1  min_S: 41814.783  max_S: 42013.653  S: 41811.475  ΔS:     -3.30763  moves:     4 \n",
      "shrinking 57 -> 44\n",
      "B=44  niter:     1  count:    0  breaks:  0  min_S: 41192.153  max_S: 41272.191  S: 41192.153  ΔS:     -80.0382  moves:    36 \n",
      "B=44  niter:     2  count:    0  breaks:  0  min_S: 41170.534  max_S: 41272.191  S: 41170.534  ΔS:     -21.6188  moves:    13 \n",
      "B=44  niter:     3  count:    0  breaks:  0  min_S: 41149.943  max_S: 41272.191  S: 41149.943  ΔS:     -20.5903  moves:    13 \n",
      "B=44  niter:     4  count:    0  breaks:  0  min_S: 41105.654  max_S: 41272.191  S: 41105.654  ΔS:     -44.2892  moves:    21 \n",
      "B=44  niter:     5  count:    0  breaks:  0  min_S: 41101.068  max_S: 41272.191  S: 41101.068  ΔS:     -4.58594  moves:     7 \n",
      "B=44  niter:     6  count:    0  breaks:  0  min_S: 41088.592  max_S: 41272.191  S: 41088.592  ΔS:     -12.4762  moves:     9 \n",
      "B=44  niter:     7  count:    0  breaks:  0  min_S: 41077.364  max_S: 41272.191  S: 41077.364  ΔS:     -11.2285  moves:     8 \n",
      "B=44  niter:     8  count:    0  breaks:  0  min_S: 41066.382  max_S: 41272.191  S: 41066.382  ΔS:     -10.9820  moves:    10 \n",
      "B=44  niter:     9  count:    0  breaks:  0  min_S: 41047.791  max_S: 41272.191  S: 41047.791  ΔS:     -18.5911  moves:    13 \n",
      "B=44  niter:    10  count:    0  breaks:  0  min_S: 41032.412  max_S: 41272.191  S: 41032.412  ΔS:     -15.3782  moves:    14 \n",
      "B=44  niter:    11  count:    0  breaks:  0  min_S: 41008.580  max_S: 41272.191  S: 41008.580  ΔS:     -23.8324  moves:    12 \n",
      "B=44  niter:    12  count:    1  breaks:  1  min_S: 41008.580  max_S: 41272.191  S: 41005.161  ΔS:     -3.41876  moves:     3 \n",
      "shrinking 44 -> 34\n",
      "B=34  niter:     1  count:    0  breaks:  0  min_S: 40618.963  max_S: 40702.499  S: 40618.963  ΔS:     -83.5358  moves:    45 \n",
      "B=34  niter:     2  count:    0  breaks:  0  min_S: 40588.111  max_S: 40702.499  S: 40588.111  ΔS:     -30.8522  moves:    15 \n",
      "B=34  niter:     3  count:    0  breaks:  0  min_S: 40574.495  max_S: 40702.499  S: 40574.495  ΔS:     -13.6163  moves:     8 \n",
      "B=34  niter:     4  count:    0  breaks:  0  min_S: 40550.897  max_S: 40702.499  S: 40550.897  ΔS:     -23.5981  moves:    15 \n",
      "B=34  niter:     5  count:    0  breaks:  0  min_S: 40542.371  max_S: 40702.499  S: 40542.371  ΔS:     -8.52580  moves:     8 \n",
      "B=34  niter:     6  count:    0  breaks:  0  min_S: 40529.522  max_S: 40702.499  S: 40529.522  ΔS:     -12.8491  moves:     8 \n",
      "B=34  niter:     7  count:    1  breaks:  1  min_S: 40529.522  max_S: 40702.499  S: 40526.028  ΔS:     -3.49345  moves:     6 \n",
      "shrinking 34 -> 26\n",
      "B=26  niter:     1  count:    0  breaks:  0  min_S: 40353.497  max_S: 40420.326  S: 40353.497  ΔS:     -66.8293  moves:    38 \n",
      "B=26  niter:     2  count:    0  breaks:  0  min_S: 40308.256  max_S: 40420.326  S: 40308.256  ΔS:     -45.2408  moves:    19 \n",
      "B=26  niter:     3  count:    0  breaks:  0  min_S: 40285.725  max_S: 40420.326  S: 40285.725  ΔS:     -22.5303  moves:    13 \n",
      "B=26  niter:     4  count:    0  breaks:  0  min_S: 40244.147  max_S: 40420.326  S: 40244.147  ΔS:     -41.5780  moves:    13 \n",
      "B=26  niter:     5  count:    0  breaks:  0  min_S: 40224.777  max_S: 40420.326  S: 40224.777  ΔS:     -19.3700  moves:    14 \n",
      "B=26  niter:     6  count:    1  breaks:  1  min_S: 40224.777  max_S: 40420.326  S: 40224.254  ΔS:    -0.523271  moves:     1 \n",
      "shrinking 26 -> 20\n",
      "B=20  niter:     1  count:    0  breaks:  0  min_S: 40294.330  max_S: 40304.667  S: 40294.330  ΔS:     -10.3370  moves:    12 \n",
      "B=20  niter:     2  count:    0  breaks:  0  min_S: 40256.235  max_S: 40304.667  S: 40256.235  ΔS:     -38.0953  moves:    21 \n",
      "B=20  niter:     3  count:    0  breaks:  0  min_S: 40247.087  max_S: 40304.667  S: 40247.087  ΔS:     -9.14777  moves:    10 \n",
      "B=20  niter:     4  count:    0  breaks:  0  min_S: 40232.099  max_S: 40304.667  S: 40232.099  ΔS:     -14.9878  moves:    14 \n",
      "B=20  niter:     5  count:    1  breaks:  1  min_S: 40232.099  max_S: 40304.667  S: 40229.604  ΔS:     -2.49525  moves:     4 \n",
      "shrinking 20 -> 15\n",
      "B=15  niter:     1  count:    0  breaks:  0  min_S: 40503.567  max_S: 40573.955  S: 40503.567  ΔS:     -70.3882  moves:    41 \n",
      "B=15  niter:     2  count:    0  breaks:  0  min_S: 40462.241  max_S: 40573.955  S: 40462.241  ΔS:     -41.3263  moves:    24 \n",
      "B=15  niter:     3  count:    0  breaks:  0  min_S: 40454.917  max_S: 40573.955  S: 40454.917  ΔS:     -7.32378  moves:    13 \n",
      "B=15  niter:     4  count:    0  breaks:  0  min_S: 40449.881  max_S: 40573.955  S: 40449.881  ΔS:     -5.03549  moves:     6 \n",
      "B=15  niter:     5  count:    1  breaks:  1  min_S: 40449.881  max_S: 40573.955  S: 40447.778  ΔS:     -2.10352  moves:     4 \n",
      "shrinking 15 -> 12\n",
      "B=12  niter:     1  count:    0  breaks:  0  min_S: 40709.849  max_S: 40741.485  S: 40709.849  ΔS:     -31.6360  moves:    21 \n",
      "B=12  niter:     2  count:    0  breaks:  0  min_S: 40683.168  max_S: 40741.485  S: 40683.168  ΔS:     -26.6806  moves:    20 \n",
      "B=12  niter:     3  count:    0  breaks:  0  min_S: 40655.788  max_S: 40741.485  S: 40655.788  ΔS:     -27.3802  moves:    19 \n",
      "B=12  niter:     4  count:    0  breaks:  0  min_S: 40648.451  max_S: 40741.485  S: 40648.451  ΔS:     -7.33690  moves:     8 \n",
      "B=12  niter:     5  count:    1  breaks:  1  min_S: 40648.451  max_S: 40741.485  S: 40646.262  ΔS:     -2.18904  moves:     5 \n",
      "shrinking 12 -> 9\n",
      "B=9  niter:     1  count:    0  breaks:  0  min_S: 41133.066  max_S: 41200.180  S: 41133.066  ΔS:     -67.1138  moves:    39 \n",
      "B=9  niter:     2  count:    0  breaks:  0  min_S: 41092.950  max_S: 41200.180  S: 41092.950  ΔS:     -40.1159  moves:    19 \n",
      "B=9  niter:     3  count:    0  breaks:  0  min_S: 41077.867  max_S: 41200.180  S: 41077.867  ΔS:     -15.0831  moves:    19 \n",
      "B=9  niter:     4  count:    0  breaks:  0  min_S: 41036.390  max_S: 41200.180  S: 41036.390  ΔS:     -41.4765  moves:    18 \n",
      "B=9  niter:     5  count:    0  breaks:  0  min_S: 41008.785  max_S: 41200.180  S: 41008.785  ΔS:     -27.6051  moves:    17 \n",
      "B=9  niter:     6  count:    0  breaks:  0  min_S: 40994.531  max_S: 41200.180  S: 40994.531  ΔS:     -14.2543  moves:    13 \n",
      "B=9  niter:     7  count:    0  breaks:  0  min_S: 40986.292  max_S: 41200.180  S: 40986.292  ΔS:     -8.23846  moves:     7 \n",
      "B=9  niter:     8  count:    0  breaks:  0  min_S: 40973.540  max_S: 41200.180  S: 40973.540  ΔS:     -12.7530  moves:    10 \n",
      "B=9  niter:     9  count:    0  breaks:  0  min_S: 40967.409  max_S: 41200.180  S: 40967.409  ΔS:     -6.13048  moves:     6 \n",
      "B=9  niter:    10  count:    0  breaks:  0  min_S: 40948.024  max_S: 41200.180  S: 40948.024  ΔS:     -19.3850  moves:     7 \n",
      "B=9  niter:    11  count:    0  breaks:  0  min_S: 40934.503  max_S: 41200.180  S: 40934.503  ΔS:     -13.5210  moves:     8 \n",
      "B=9  niter:    12  count:    0  breaks:  0  min_S: 40927.100  max_S: 41200.180  S: 40927.100  ΔS:     -7.40305  moves:    10 \n",
      "B=9  niter:    13  count:    0  breaks:  0  min_S: 40922.346  max_S: 41200.180  S: 40922.346  ΔS:     -4.75419  moves:     5 \n",
      "B=9  niter:    14  count:    0  breaks:  0  min_S: 40910.526  max_S: 41200.180  S: 40910.526  ΔS:     -11.8197  moves:    10 \n",
      "B=9  niter:    15  count:    0  breaks:  0  min_S: 40903.281  max_S: 41200.180  S: 40903.281  ΔS:     -7.24485  moves:     6 \n",
      "B=9  niter:    16  count:    0  breaks:  0  min_S: 40894.271  max_S: 41200.180  S: 40894.271  ΔS:     -9.01003  moves:    10 \n",
      "B=9  niter:    17  count:    1  breaks:  1  min_S: 40894.271  max_S: 41200.180  S: 40892.572  ΔS:     -1.69885  moves:     3 \n",
      "shrinking 9 -> 7\n",
      "B=7  niter:     1  count:    0  breaks:  0  min_S: 41439.924  max_S: 41503.397  S: 41439.924  ΔS:     -63.4733  moves:    24 \n",
      "B=7  niter:     2  count:    0  breaks:  0  min_S: 41402.525  max_S: 41503.397  S: 41402.525  ΔS:     -37.3990  moves:    13 \n",
      "B=7  niter:     3  count:    0  breaks:  0  min_S: 41367.536  max_S: 41503.397  S: 41367.536  ΔS:     -34.9887  moves:     7 \n",
      "B=7  niter:     4  count:    0  breaks:  0  min_S: 41353.644  max_S: 41503.397  S: 41353.644  ΔS:     -13.8928  moves:     7 \n",
      "B=7  niter:     5  count:    1  breaks:  1  min_S: 41353.644  max_S: 41503.397  S: 41350.190  ΔS:     -3.45377  moves:     3 \n",
      "shrinking 7 -> 5\n",
      "B=5  niter:     1  count:    0  breaks:  0  min_S: 41835.714  max_S: 42031.242  S: 41835.714  ΔS:     -195.528  moves:    67 \n",
      "B=5  niter:     2  count:    0  breaks:  0  min_S: 41807.505  max_S: 42031.242  S: 41807.505  ΔS:     -28.2085  moves:    12 \n",
      "B=5  niter:     3  count:    0  breaks:  0  min_S: 41796.790  max_S: 42031.242  S: 41796.790  ΔS:     -10.7150  moves:     9 \n",
      "B=5  niter:     4  count:    0  breaks:  0  min_S: 41784.016  max_S: 42031.242  S: 41784.016  ΔS:     -12.7739  moves:     7 \n",
      "B=5  niter:     5  count:    1  breaks:  1  min_S: 41784.016  max_S: 42031.242  S: 41780.685  ΔS:     -3.33075  moves:     5 \n",
      "shrinking 5 -> 4\n",
      "B=4  niter:     1  count:    0  breaks:  0  min_S: 42302.573  max_S: 42556.745  S: 42302.573  ΔS:     -254.172  moves:    99 \n",
      "B=4  niter:     2  count:    0  breaks:  0  min_S: 42238.502  max_S: 42556.745  S: 42238.502  ΔS:     -64.0711  moves:    33 \n",
      "B=4  niter:     3  count:    1  breaks:  1  min_S: 42238.502  max_S: 42556.745  S: 42235.997  ΔS:     -2.50486  moves:     2 \n",
      "shrinking 4 -> 3\n",
      "B=3  niter:     1  count:    0  breaks:  0  min_S: 42585.829  max_S: 42593.096  S: 42585.829  ΔS:     -7.26674  moves:     3 \n",
      "B=3  niter:     2  count:    1  breaks:  1  min_S: 42585.829  max_S: 42593.096  S: 42585.651  ΔS:    -0.177549  moves:     2 \n",
      "shrinking 3 -> 2\n",
      "B=2  niter:     1  count:    0  breaks:  0  min_S: 43229.941  max_S: 43240.048  S: 43229.941  ΔS:     -10.1072  moves:     8 \n",
      "B=2  niter:     2  count:    1  breaks:  1  min_S: 43229.941  max_S: 43240.048  S: 43229.941  ΔS:      0.00000  moves:     0 \n",
      "Current bracket: (2, 2, 2) (43229.94053643143, 43229.94053643143, 43229.94053643143)\n",
      "Current bracket: (2, 2, 2) (43229.94053643143, 43229.94053643143, 43229.94053643143)\n",
      "Bisect at B = 2 with S = 43229.94053643143\n",
      "Best result: B = 2, S = 43229.94053643143\n"
     ]
    }
   ],
   "source": [
    "# %%time\n",
    "# # nSBM = gt.minimize_nested_blockmodel_dl(u, layers=True, state_args=dict(ec=u.ep[\"#synapses\"], layers=True))\n",
    "# # nSBM = gt.minimize_nested_blockmodel_dl(u, deg_corr=True)\n",
    "# # nSBM = gt.minimize_nested_blockmodel_dl(u, deg_corr=False)\n",
    "SBM = gt.minimize_blockmodel_dl(u, deg_corr=True, \n",
    "                                B_min=2, B_max=2,\n",
    "                                state_args=dict(recs=[u.ep[\"#synapses\"]], \n",
    "                                                rec_types=[\"discrete-poisson\"]),\n",
    "                                mcmc_multilevel_args=dict(verbose=True),\n",
    "                                verbose=True)"
   ]
  },
  {
   "cell_type": "code",
   "execution_count": 60,
   "metadata": {},
   "outputs": [
    {
     "data": {
      "text/plain": [
       "PropertyArray([4079,  463,  613, 2599], dtype=int32)"
      ]
     },
     "execution_count": 60,
     "metadata": {},
     "output_type": "execute_result"
    }
   ],
   "source": [
    "SBM.get_ers().a"
   ]
  },
  {
   "cell_type": "code",
   "execution_count": 61,
   "metadata": {},
   "outputs": [
    {
     "data": {
      "text/plain": [
       "PropertyArray([0, 0, 0, ..., 0, 0, 0], dtype=int32)"
      ]
     },
     "execution_count": 61,
     "metadata": {},
     "output_type": "execute_result"
    }
   ],
   "source": [
    "SBM.get_blocks().a"
   ]
  },
  {
   "cell_type": "code",
   "execution_count": 62,
   "metadata": {},
   "outputs": [
    {
     "data": {
      "text/plain": [
       "7754"
      ]
     },
     "execution_count": 62,
     "metadata": {},
     "output_type": "execute_result"
    }
   ],
   "source": []
  },
  {
   "cell_type": "code",
   "execution_count": 49,
   "metadata": {},
   "outputs": [],
   "source": [
    "# SBM = gt.minimize_blockmodel_dl(u, deg_corr=True, \n",
    "#                                 B_min=2, B_max=2,\n",
    "#                                 state_args=dict(eweight=u.ep[\"#synapses\"]),\n",
    "#                                 mcmc_multilevel_args=dict(verbose=True),\n",
    "#                                 verbose=True)"
   ]
  },
  {
   "cell_type": "code",
   "execution_count": 41,
   "metadata": {},
   "outputs": [
    {
     "data": {
      "text/plain": [
       "<Graph object, directed, with 599 vertices and 7754 edges, 3 internal vertex properties, 1 internal edge property, edges filtered by (<EdgePropertyMap object with value type 'bool', for Graph 0x7f6896f34e80, at 0x7f6896f34cc0>, False), vertices filtered by (<VertexPropertyMap object with value type 'bool', for Graph 0x7f6896f34e80, at 0x7f6896f344a8>, False), at 0x7f6896f34e80>"
      ]
     },
     "execution_count": 41,
     "metadata": {},
     "output_type": "execute_result"
    }
   ],
   "source": [
    "u"
   ]
  },
  {
   "cell_type": "code",
   "execution_count": 42,
   "metadata": {},
   "outputs": [
    {
     "data": {
      "text/plain": [
       "PropertyArray(280)"
      ]
     },
     "execution_count": 42,
     "metadata": {},
     "output_type": "execute_result"
    }
   ],
   "source": [
    "(SBM.get_blocks().a==1).sum()"
   ]
  },
  {
   "cell_type": "code",
   "execution_count": 43,
   "metadata": {
    "scrolled": true
   },
   "outputs": [
    {
     "name": "stdout",
     "output_type": "stream",
     "text": [
      "Discription Length:  43254.93150852637\n"
     ]
    }
   ],
   "source": [
    "print(\"Discription Length: \", SBM.entropy())"
   ]
  },
  {
   "cell_type": "code",
   "execution_count": 44,
   "metadata": {},
   "outputs": [],
   "source": [
    "import pickle\n",
    "with open('saved/SBM_Zfish_rec.data', 'wb') as output:\n",
    "    pickle.dump(SBM, output, pickle.HIGHEST_PROTOCOL)\n",
    "\n",
    "with open('saved/SBM_Zfish_rec_u.data', 'wb') as output:\n",
    "    pickle.dump(u, output, pickle.HIGHEST_PROTOCOL)\n",
    "\n",
    "# with open('saved/SBM_Zfish_eig.data', 'rb') as input:    \n",
    "#     nSBM = pickle.load(input)\n",
    "\n",
    "# with open('saved/SBM_Zfish_eig_u.data', 'rb') as input:    \n",
    "#     u = pickle.load(input)"
   ]
  },
  {
   "cell_type": "code",
   "execution_count": 45,
   "metadata": {},
   "outputs": [],
   "source": [
    "u.vp[\"SBM\"] = SBM.get_blocks()"
   ]
  },
  {
   "cell_type": "code",
   "execution_count": 46,
   "metadata": {},
   "outputs": [],
   "source": [
    "u.set_vertex_filter(center_type_filter)"
   ]
  },
  {
   "cell_type": "code",
   "execution_count": 47,
   "metadata": {},
   "outputs": [
    {
     "data": {
      "text/plain": [
       "<Graph object, directed, with 202 vertices and 1886 edges, 4 internal vertex properties, 1 internal edge property, edges filtered by (<EdgePropertyMap object with value type 'bool', for Graph 0x7f6896f34e80, at 0x7f6896f34cc0>, False), vertices filtered by (<VertexPropertyMap object with value type 'bool', for Graph 0x7f6896f34e80, at 0x7f6896283c18>, False), at 0x7f6896f34e80>"
      ]
     },
     "execution_count": 47,
     "metadata": {},
     "output_type": "execute_result"
    }
   ],
   "source": [
    "u"
   ]
  },
  {
   "cell_type": "code",
   "execution_count": 48,
   "metadata": {},
   "outputs": [],
   "source": [
    "u_adj = gt.adjacency(u, weight=u.ep[\"#synapses\"])"
   ]
  },
  {
   "cell_type": "code",
   "execution_count": 49,
   "metadata": {},
   "outputs": [],
   "source": [
    "center_filter_mask = np.array(center_filter.a, dtype=bool) "
   ]
  },
  {
   "cell_type": "code",
   "execution_count": 50,
   "metadata": {},
   "outputs": [],
   "source": [
    "center_type_filter_mask = np.array(center_type_filter.a, dtype=bool)"
   ]
  },
  {
   "cell_type": "code",
   "execution_count": 51,
   "metadata": {},
   "outputs": [],
   "source": [
    "dic_SBM2Type = np.array([u.vp[\"SBM\"].a[center_type_filter_mask].tolist(), u.vp[\"celltype\"].a[center_type_filter_mask].tolist()]).T"
   ]
  },
  {
   "cell_type": "code",
   "execution_count": 52,
   "metadata": {},
   "outputs": [],
   "source": [
    "typenames = ['Saccadic_M', 'Saccadic_I', 'IBN', 'IBNmirrorPop', 'RS', 'Vestibular_DO', 'Vestibular_MO', 'Vestibular_TO', 'Integrator_r456I', 'Integrator_r456M', 'Integrator_r456MI', 'Integrator_r56M', 'Integrator_r78ipis', 'Integrator_r78contra', 'Abducens_M', 'Abducens_I']"
   ]
  },
  {
   "cell_type": "code",
   "execution_count": 53,
   "metadata": {},
   "outputs": [
    {
     "name": "stdout",
     "output_type": "stream",
     "text": [
      "---\n",
      "SBM type: 0\n",
      "3 x IBN\n",
      "35 x Vestibular_DO\n",
      "1 x Vestibular_TO\n",
      "45 x Integrator_r456I\n",
      "14 x Integrator_r456M\n",
      "34 x Integrator_r456MI\n",
      "9 x Integrator_r56M\n",
      "37 x Integrator_r78ipis\n",
      "1 x Integrator_r78contra\n",
      "---\n",
      "SBM type: 1\n",
      "10 x RS\n",
      "5 x Integrator_r456I\n",
      "4 x Integrator_r456M\n",
      "1 x Integrator_r456MI\n",
      "2 x Integrator_r78ipis\n",
      "1 x Integrator_r78contra\n"
     ]
    }
   ],
   "source": [
    "typeM = np.zeros((2, 16))\n",
    "for i in range(2):\n",
    "    print(\"---\")\n",
    "    print(\"SBM type: {}\".format(i))\n",
    "    ids, cnts = np.unique(dic_SBM2Type[dic_SBM2Type[:,0]==i][:,1], return_counts=True)\n",
    "    for cnt, nid, name in zip(cnts, ids, np.array(typenames)[ids].tolist()):\n",
    "        typeM[i, nid] = cnt\n",
    "        print(str(cnt)+\" x \"+str(name))"
   ]
  },
  {
   "cell_type": "code",
   "execution_count": 54,
   "metadata": {
    "scrolled": true
   },
   "outputs": [
    {
     "data": {
      "image/png": "[encoded data removed]",
      "text/plain": [
       "<Figure size 216x288 with 4 Axes>"
      ]
     },
     "metadata": {},
     "output_type": "display_data"
    }
   ],
   "source": [
    "# plt.axis('off')\n",
    "type_grid = sns.clustermap(typeM.T, \n",
    "               center=0, \n",
    "            xticklabels=np.arange(2),\n",
    "            yticklabels=typenames,\n",
    "            figsize=(3,4),\n",
    "            row_cluster=True,\n",
    "            col_cluster=True,\n",
    "            cmap=\"BrBG\",\n",
    "            annot=True,\n",
    "            linewidths=.5,\n",
    "            cbar_pos=(1,0.1,0.01,0.7))\n",
    "# plt.xlabel(\"nSBM Level 0 Labels\")\n",
    "plt.show()"
   ]
  },
  {
   "cell_type": "code",
   "execution_count": 55,
   "metadata": {},
   "outputs": [],
   "source": [
    "sepline = lambda x: np.cumsum(np.unique(x, return_counts=True)[1])"
   ]
  },
  {
   "cell_type": "code",
   "execution_count": 56,
   "metadata": {},
   "outputs": [],
   "source": [
    "def pretty_print_label(labels):\n",
    "    lbs = labels.copy().tolist()\n",
    "    prev = -1\n",
    "    start_i = 0\n",
    "    for i, a in enumerate(lbs):\n",
    "        if manual_group[a] == manual_group[prev]:\n",
    "            lbs[i] = \"\"\n",
    "        elif i == 0:\n",
    "            lbs[i] = \"\"\n",
    "            prev = a\n",
    "            start_i = i\n",
    "        else:\n",
    "            pos = (start_i + i) // 2\n",
    "            lbs[i] = \"\"\n",
    "            lbs[pos] = manual_group[prev]\n",
    "            prev = a\n",
    "            start_i = i\n",
    "    pos = (start_i + i) // 2\n",
    "    lbs[pos] = manual_group[prev]\n",
    "    return lbs"
   ]
  },
  {
   "cell_type": "code",
   "execution_count": 57,
   "metadata": {},
   "outputs": [],
   "source": [
    "u.clear_filters()"
   ]
  },
  {
   "cell_type": "code",
   "execution_count": 58,
   "metadata": {},
   "outputs": [],
   "source": [
    "abd_filter_mask = np.array(u.vp[\"celltype\"].a)>=14"
   ]
  },
  {
   "cell_type": "code",
   "execution_count": 59,
   "metadata": {},
   "outputs": [],
   "source": [
    "center_filter_mask = np.array(center_filter.a, dtype=bool) "
   ]
  },
  {
   "cell_type": "code",
   "execution_count": 60,
   "metadata": {},
   "outputs": [
    {
     "data": {
      "text/plain": [
       "599"
      ]
     },
     "execution_count": 60,
     "metadata": {},
     "output_type": "execute_result"
    }
   ],
   "source": [
    "center_filter_mask.sum()"
   ]
  },
  {
   "cell_type": "code",
   "execution_count": 61,
   "metadata": {},
   "outputs": [],
   "source": [
    "vw = u.new_vertex_property(\"int32_t\")\n",
    "for i, v in enumerate(u.vertices()):\n",
    "    if u.vp[\"celltype\"][v] >= 14:\n",
    "        vw[v] = 2\n",
    "    elif  u.vp[\"cellid\"][v] in [76202,77267,77268,76562,77931]:\n",
    "        vw[v] = 3\n",
    "    else:\n",
    "        vw[v] = u.vp[\"SBM\"][v]\n",
    "u.vp['SBM+ABD+vSPNs'] = vw"
   ]
  },
  {
   "cell_type": "code",
   "execution_count": 62,
   "metadata": {},
   "outputs": [],
   "source": [
    "spn_filter_mask = np.isin(np.array(u.vp[\"cellid\"].a), [76202,77267,77268,76562,77931])"
   ]
  },
  {
   "cell_type": "code",
   "execution_count": 63,
   "metadata": {},
   "outputs": [],
   "source": [
    "plot_filter_mask = abd_filter_mask + center_filter_mask + spn_filter_mask"
   ]
  },
  {
   "cell_type": "code",
   "execution_count": 64,
   "metadata": {},
   "outputs": [
    {
     "data": {
      "text/plain": [
       "654"
      ]
     },
     "execution_count": 64,
     "metadata": {},
     "output_type": "execute_result"
    }
   ],
   "source": [
    "plot_filter_mask.sum()"
   ]
  },
  {
   "cell_type": "code",
   "execution_count": 65,
   "metadata": {},
   "outputs": [],
   "source": [
    "manual_group = [\"0\", \"1\", \"ABD\", \"vSPNs\"]\n",
    "uol = u.vp[\"SBM+ABD+vSPNs\"].a[plot_filter_mask]\n",
    "celltype_SBM = [\"\"]*len(uol)\n",
    "for i, v in enumerate(uol):\n",
    "    celltype_SBM[i] = manual_group[v]"
   ]
  },
  {
   "cell_type": "code",
   "execution_count": 66,
   "metadata": {},
   "outputs": [],
   "source": [
    "degree_seq = u.get_in_degrees(u.get_vertices())*u.get_out_degrees(u.get_vertices())\n",
    "degree_seq = degree_seq[plot_filter_mask]"
   ]
  },
  {
   "cell_type": "code",
   "execution_count": 67,
   "metadata": {},
   "outputs": [],
   "source": [
    "# ind_nSBML3_type = np.argsort(celltype_nSBM_L2)\n",
    "ind_SBM_type = np.lexsort((degree_seq, celltype_SBM))"
   ]
  },
  {
   "cell_type": "code",
   "execution_count": 68,
   "metadata": {},
   "outputs": [],
   "source": [
    "sep_SBM_type = sepline(celltype_SBM)"
   ]
  },
  {
   "cell_type": "code",
   "execution_count": 69,
   "metadata": {},
   "outputs": [],
   "source": [
    "u_adj_full = gt.adjacency(u, weight=u.ep[\"#synapses\"])"
   ]
  },
  {
   "cell_type": "code",
   "execution_count": 70,
   "metadata": {},
   "outputs": [],
   "source": [
    "u_adj_sub = u_adj_full[plot_filter_mask][:, plot_filter_mask]"
   ]
  },
  {
   "cell_type": "code",
   "execution_count": 71,
   "metadata": {},
   "outputs": [
    {
     "data": {
      "image/png": "[encoded data removed]",
      "text/plain": [
       "<Figure size 1224x1008 with 2 Axes>"
      ]
     },
     "metadata": {},
     "output_type": "display_data"
    }
   ],
   "source": [
    "fig, ax = plt.subplots(figsize=(17,14))\n",
    "# plt.axis('off')\n",
    "sns.heatmap(np.minimum(u_adj_sub.todense()[ind_SBM_type][:,ind_SBM_type],5), \n",
    "            xticklabels=pretty_print_label(u.vp[\"SBM+ABD+vSPNs\"].a[plot_filter_mask][ind_SBM_type]),\n",
    "            yticklabels=pretty_print_label(u.vp[\"SBM+ABD+vSPNs\"].a[plot_filter_mask][ind_SBM_type]),\n",
    "            cmap=\"BrBG\", center=0, ax=ax)\n",
    "ax.hlines(sep_SBM_type, *ax.get_xlim(), linestyles='dashed', linewidths=0.8)\n",
    "ax.vlines(sep_SBM_type, *ax.get_ylim(), linestyles='dashed', linewidths=0.8)\n",
    "\n",
    "ax.tick_params(length=8, width=1.5, labelsize=12)\n",
    "\n",
    "plt.show()"
   ]
  },
  {
   "cell_type": "code",
   "execution_count": 72,
   "metadata": {},
   "outputs": [
    {
     "data": {
      "text/plain": [
       "array([319, 599, 649, 654])"
      ]
     },
     "execution_count": 72,
     "metadata": {},
     "output_type": "execute_result"
    }
   ],
   "source": [
    "sep_SBM_type"
   ]
  },
  {
   "cell_type": "code",
   "execution_count": 73,
   "metadata": {},
   "outputs": [],
   "source": [
    "def norm_conn(mat, col, row):\n",
    "    res = np.zeros((len(row), len(col)))\n",
    "    for i, c in enumerate(col):\n",
    "        for j, r in enumerate(row):\n",
    "            c_prev = 0 if i == 0 else col[i-1]\n",
    "            r_prev = 0 if j == 0 else row[j-1]\n",
    "            c_num = c - c_prev\n",
    "            r_num = r - r_prev\n",
    "            res[j, i] = mat[r_prev:r][:,c_prev:c].sum() / np.sqrt(c_num * r_num)\n",
    "    return res"
   ]
  },
  {
   "cell_type": "code",
   "execution_count": 75,
   "metadata": {},
   "outputs": [
    {
     "data": {
      "text/plain": [
       "array([[19.54545455,  3.14858387],\n",
       "       [ 2.30204644, 16.34642857],\n",
       "       [50.12141997,  3.86235494],\n",
       "       [ 1.35211433,  7.75057602]])"
      ]
     },
     "execution_count": 75,
     "metadata": {},
     "output_type": "execute_result"
    }
   ],
   "source": [
    "norm_conn(u_adj_sub.todense()[ind_SBM_type][:,ind_SBM_type], \n",
    "          sep_SBM_type[:2], sep_SBM_type)"
   ]
  },
  {
   "cell_type": "code",
   "execution_count": 74,
   "metadata": {},
   "outputs": [],
   "source": [
    "with open('saved/finalgraph_SBM_Zfish_rec.data', 'wb') as output:\n",
    "    pickle.dump(u, output, pickle.HIGHEST_PROTOCOL)"
   ]
  },
  {
   "cell_type": "markdown",
   "metadata": {},
   "source": [
    "## Further partition the oculomotor module"
   ]
  },
  {
   "cell_type": "code",
   "execution_count": 76,
   "metadata": {},
   "outputs": [],
   "source": [
    "om_mask = (np.array(u.vp['SBM'].a==0, dtype=bool) & center_filter_mask)\n",
    "\n",
    "om_filter = u.new_vertex_property(\"bool\")\n",
    "for i, v in enumerate(u.vertices()):\n",
    "    om_filter[v] = om_mask[i]\n",
    "\n",
    "u.set_vertex_filter(om_filter)"
   ]
  },
  {
   "cell_type": "code",
   "execution_count": 77,
   "metadata": {},
   "outputs": [],
   "source": [
    "om_SBM = gt.minimize_blockmodel_dl(u, deg_corr=True, \n",
    "                                B_min=2, B_max=2,\n",
    "                                state_args=dict(recs=[u.ep[\"#synapses\"]], \n",
    "                                                   rec_types=[\"discrete-poisson\"]))"
   ]
  },
  {
   "cell_type": "code",
   "execution_count": 78,
   "metadata": {},
   "outputs": [],
   "source": [
    "import pickle\n",
    "with open('saved/SBM_omZfish_rec.data', 'wb') as output:\n",
    "    pickle.dump(om_SBM, output, pickle.HIGHEST_PROTOCOL)\n",
    "\n",
    "with open('saved/SBM_omZfish_rec_u.data', 'wb') as output:\n",
    "    pickle.dump(u, output, pickle.HIGHEST_PROTOCOL)\n",
    "\n",
    "# with open('saved/SBM_omZfish_eig.data', 'rb') as input:    \n",
    "#     om_nSBM = pickle.load(input)\n",
    "\n",
    "# with open('saved/SBM_omZfish_eig_u.data', 'rb') as input:    \n",
    "#     u = pickle.load(input)"
   ]
  },
  {
   "cell_type": "code",
   "execution_count": 79,
   "metadata": {},
   "outputs": [],
   "source": [
    "u.vp[\"om_SBM\"] = om_SBM.get_blocks()"
   ]
  },
  {
   "cell_type": "code",
   "execution_count": 80,
   "metadata": {},
   "outputs": [],
   "source": [
    "sub_center_type_filter_mask = om_mask & center_type_filter_mask"
   ]
  },
  {
   "cell_type": "code",
   "execution_count": 81,
   "metadata": {},
   "outputs": [],
   "source": [
    "dic_omSBM2Type = np.array([u.vp[\"om_SBM\"].a[sub_center_type_filter_mask].tolist(), u.vp[\"celltype\"].a[sub_center_type_filter_mask].tolist()]).T"
   ]
  },
  {
   "cell_type": "code",
   "execution_count": 82,
   "metadata": {},
   "outputs": [],
   "source": [
    "typenames = ['Saccadic_M', 'Saccadic_I', 'IBN', 'IBNmirrorPop', 'RS', 'Vestibular_DO', 'Vestibular_MO', 'Vestibular_TO', 'Integrator_r456I', 'Integrator_r456M', 'Integrator_r456MI', 'Integrator_r56M', 'Integrator_r78ipis', 'Integrator_r78contra', 'Abducens_M', 'Abducens_I']"
   ]
  },
  {
   "cell_type": "code",
   "execution_count": 83,
   "metadata": {},
   "outputs": [
    {
     "name": "stdout",
     "output_type": "stream",
     "text": [
      "---\n",
      "SBM type: 0\n",
      "2 x IBN\n",
      "7 x Vestibular_DO\n",
      "45 x Integrator_r456I\n",
      "12 x Integrator_r456MI\n",
      "24 x Integrator_r78ipis\n",
      "---\n",
      "SBM type: 1\n",
      "1 x IBN\n",
      "28 x Vestibular_DO\n",
      "1 x Vestibular_TO\n",
      "14 x Integrator_r456M\n",
      "22 x Integrator_r456MI\n",
      "9 x Integrator_r56M\n",
      "13 x Integrator_r78ipis\n",
      "1 x Integrator_r78contra\n"
     ]
    }
   ],
   "source": [
    "typeM = np.zeros((2, 16))\n",
    "for i in range(2):\n",
    "    print(\"---\")\n",
    "    print(\"SBM type: {}\".format(i))\n",
    "    ids, cnts = np.unique(dic_omSBM2Type[dic_omSBM2Type[:,0]==i][:,1], return_counts=True)\n",
    "    for cnt, nid, name in zip(cnts, ids, np.array(typenames)[ids].tolist()):\n",
    "        typeM[i, nid] = cnt\n",
    "        print(str(cnt)+\" x \"+str(name))"
   ]
  },
  {
   "cell_type": "code",
   "execution_count": 84,
   "metadata": {
    "scrolled": true
   },
   "outputs": [
    {
     "data": {
      "image/png": "[encoded data removed]",
      "text/plain": [
       "<Figure size 216x288 with 4 Axes>"
      ]
     },
     "metadata": {},
     "output_type": "display_data"
    }
   ],
   "source": [
    "# plt.axis('off')\n",
    "type_grid = sns.clustermap(typeM.T[:,::-1], \n",
    "               center=0, \n",
    "            xticklabels=np.arange(2),\n",
    "            yticklabels=typenames,\n",
    "            figsize=(3,4),\n",
    "            row_cluster=True,\n",
    "            col_cluster=True,\n",
    "            cmap=\"BrBG\",\n",
    "            annot=True,\n",
    "            linewidths=.5,\n",
    "            cbar_pos=(1,0.1,0.01,0.7))\n",
    "# plt.xlabel(\"nSBM Level 0 Labels\")\n",
    "plt.show()"
   ]
  },
  {
   "cell_type": "code",
   "execution_count": 85,
   "metadata": {},
   "outputs": [],
   "source": [
    "u.clear_filters()"
   ]
  },
  {
   "cell_type": "code",
   "execution_count": 86,
   "metadata": {},
   "outputs": [],
   "source": [
    "vw = u.new_vertex_property(\"int32_t\")\n",
    "for i, v in enumerate(u.vertices()):\n",
    "    if u.vp[\"celltype\"][v] == 14:\n",
    "        vw[v] = 2\n",
    "    elif  u.vp[\"celltype\"][v] == 15:\n",
    "        vw[v] = 3\n",
    "    else:\n",
    "        vw[v] = u.vp[\"om_SBM\"][v]\n",
    "u.vp['omSBM+ABD_M+ABD_I'] = vw"
   ]
  },
  {
   "cell_type": "code",
   "execution_count": 87,
   "metadata": {},
   "outputs": [],
   "source": [
    "center_filter_mask = np.array(center_filter.a, dtype=bool) \n",
    "plot_filter_mask = abd_filter_mask + (center_filter_mask & om_mask)"
   ]
  },
  {
   "cell_type": "code",
   "execution_count": 88,
   "metadata": {},
   "outputs": [
    {
     "data": {
      "text/plain": [
       "369"
      ]
     },
     "execution_count": 88,
     "metadata": {},
     "output_type": "execute_result"
    }
   ],
   "source": [
    "plot_filter_mask.sum()"
   ]
  },
  {
   "cell_type": "code",
   "execution_count": 89,
   "metadata": {},
   "outputs": [],
   "source": [
    "manual_group = [\"1\", \"0\", \"ABD_M\", \"ABD_I\"]\n",
    "\n",
    "uol = u.vp[\"omSBM+ABD_M+ABD_I\"].a[plot_filter_mask]\n",
    "celltype_SBM = [\"\"]*len(uol)\n",
    "for i, v in enumerate(uol):\n",
    "    celltype_SBM[i] = manual_group[v]"
   ]
  },
  {
   "cell_type": "code",
   "execution_count": 90,
   "metadata": {},
   "outputs": [
    {
     "data": {
      "text/plain": [
       "2817"
      ]
     },
     "execution_count": 90,
     "metadata": {},
     "output_type": "execute_result"
    }
   ],
   "source": [
    "len(u.get_vertices())"
   ]
  },
  {
   "cell_type": "code",
   "execution_count": 91,
   "metadata": {},
   "outputs": [],
   "source": [
    "degree_seq = u.get_in_degrees(u.get_vertices())*u.get_out_degrees(u.get_vertices())\n",
    "degree_seq = degree_seq[plot_filter_mask]"
   ]
  },
  {
   "cell_type": "code",
   "execution_count": 92,
   "metadata": {},
   "outputs": [],
   "source": [
    "# ind_nSBML3_type = np.argsort(celltype_nSBM_L2)\n",
    "ind_SBM_type = np.lexsort((degree_seq, celltype_SBM))"
   ]
  },
  {
   "cell_type": "code",
   "execution_count": 93,
   "metadata": {},
   "outputs": [],
   "source": [
    "sep_SBM_type = sepline(celltype_SBM)"
   ]
  },
  {
   "cell_type": "code",
   "execution_count": 94,
   "metadata": {},
   "outputs": [],
   "source": [
    "u_adj_full = gt.adjacency(u, weight=u.ep[\"#synapses\"])"
   ]
  },
  {
   "cell_type": "code",
   "execution_count": 95,
   "metadata": {},
   "outputs": [],
   "source": [
    "u_adj_sub = u_adj_full[plot_filter_mask][:, plot_filter_mask]"
   ]
  },
  {
   "cell_type": "code",
   "execution_count": 96,
   "metadata": {},
   "outputs": [
    {
     "data": {
      "image/png": "[encoded data removed]",
      "text/plain": [
       "<Figure size 1224x1008 with 2 Axes>"
      ]
     },
     "metadata": {},
     "output_type": "display_data"
    }
   ],
   "source": [
    "fig, ax = plt.subplots(figsize=(17,14))\n",
    "# plt.axis('off')\n",
    "sns.heatmap(np.minimum(u_adj_sub.todense()[ind_SBM_type][:,ind_SBM_type],5), \n",
    "            xticklabels=pretty_print_label(u.vp[\"omSBM+ABD_M+ABD_I\"].a[plot_filter_mask][ind_SBM_type]),\n",
    "            yticklabels=pretty_print_label(u.vp[\"omSBM+ABD_M+ABD_I\"].a[plot_filter_mask][ind_SBM_type]),\n",
    "            cmap=\"BrBG\", center=0, ax=ax)\n",
    "ax.hlines(sep_SBM_type, *ax.get_xlim(), linestyles='dashed', linewidths=0.8)\n",
    "ax.vlines(sep_SBM_type, *ax.get_ylim(), linestyles='dashed', linewidths=0.8)\n",
    "\n",
    "ax.tick_params(length=8, width=1.5, labelsize=12)\n",
    "\n",
    "plt.show()"
   ]
  },
  {
   "cell_type": "code",
   "execution_count": 97,
   "metadata": {},
   "outputs": [
    {
     "data": {
      "text/plain": [
       "array([164, 319, 340, 369])"
      ]
     },
     "execution_count": 97,
     "metadata": {},
     "output_type": "execute_result"
    }
   ],
   "source": [
    "sep_SBM_type"
   ]
  },
  {
   "cell_type": "code",
   "execution_count": 98,
   "metadata": {},
   "outputs": [],
   "source": [
    "def norm_conn(mat, col, row):\n",
    "    res = np.zeros((len(row), len(col)))\n",
    "    for i, c in enumerate(col):\n",
    "        for j, r in enumerate(row):\n",
    "            c_prev = 0 if i == 0 else col[i-1]\n",
    "            r_prev = 0 if j == 0 else row[j-1]\n",
    "            c_num = c - c_prev\n",
    "            r_num = r - r_prev\n",
    "            res[j, i] = mat[r_prev:r][:,c_prev:c].sum() / np.sqrt(c_num * r_num)\n",
    "    return res"
   ]
  },
  {
   "cell_type": "code",
   "execution_count": 99,
   "metadata": {},
   "outputs": [
    {
     "data": {
      "text/plain": [
       "array([[16.40853659,  3.05450745],\n",
       "       [ 4.29638111, 15.30322581],\n",
       "       [11.72348864, 49.25278849],\n",
       "       [36.56993255,  4.62377663]])"
      ]
     },
     "execution_count": 99,
     "metadata": {},
     "output_type": "execute_result"
    }
   ],
   "source": [
    "norm_conn(u_adj_sub.todense()[ind_SBM_type][:,ind_SBM_type], \n",
    "          sep_SBM_type[:2], sep_SBM_type)"
   ]
  },
  {
   "cell_type": "code",
   "execution_count": 100,
   "metadata": {},
   "outputs": [],
   "source": [
    "with open('saved/finalgraph_SBM_omZfish_rec.data', 'wb') as output:\n",
    "    pickle.dump(u, output, pickle.HIGHEST_PROTOCOL)"
   ]
  },
  {
   "cell_type": "code",
   "execution_count": null,
   "metadata": {},
   "outputs": [],
   "source": []
  }
 ],
 "metadata": {
  "kernelspec": {
   "display_name": "playground",
   "language": "python",
   "name": "myenv"
  },
  "language_info": {
   "codemirror_mode": {
    "name": "ipython",
    "version": 3
   },
   "file_extension": ".py",
   "mimetype": "text/x-python",
   "name": "python",
   "nbconvert_exporter": "python",
   "pygments_lexer": "ipython3",
   "version": "3.7.1"
  }
 },
 "nbformat": 4,
 "nbformat_minor": 4
}
